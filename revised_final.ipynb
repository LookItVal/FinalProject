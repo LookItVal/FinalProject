{
 "cells": [
  {
   "cell_type": "markdown",
   "metadata": {},
   "source": [
    "# **Classification of Birds based on audio of their call**"
   ]
  },
  {
   "cell_type": "markdown",
   "metadata": {},
   "source": [
    "# § I: Introduction"
   ]
  },
  {
   "cell_type": "markdown",
   "metadata": {},
   "source": [
    "Bird species classification based on audio recordings has significant implications for ecological monitoring, biodiversity studies, and conservation efforts, as well as being applicable and interesting to a population of bird watchers and nature lovers. This project focuses on developing a robust machine learning pipeline capable of identifying bird species from basic metadata recordable by a cell phone recording. By leveraging advanced audio signal processing techniques and modern classification algorithms, the project aims to create a reliable and scalable solution for bird call recognition."
   ]
  },
  {
   "cell_type": "markdown",
   "metadata": {},
   "source": [
    "## A. Overview of project goals"
   ]
  },
  {
   "cell_type": "markdown",
   "metadata": {},
   "source": [
    "The primary objectives of this project are:\n",
    "\n",
    "### 1. Data Collection and Integration:\n",
    "Analyze, preprocess, and merge audio datasets containing bird calls to create a comprehensive, high-quality dataset suitable for training machine learning models.\n",
    "### 2. Feature Engineering:\n",
    "Extract meaningful features from raw audio signals, including frequency-domain representations, time-frequency representations, and repcrocess the signal to make the target sound the loudest part of the signal.\n",
    "### 3. Model Training and Evaluation:\n",
    "Train and compare multiple classification models, including neural networks and traditional classification algorithms, to identify the most effective approach for bird call classification.\n",
    "### 4. Practical Application:\n",
    "Build a functional tool capable of processing new audio files to classify bird species throughout an audio file."
   ]
  },
  {
   "cell_type": "markdown",
   "metadata": {},
   "source": [
    "# § II. Data Preperation and Exploration"
   ]
  },
  {
   "cell_type": "markdown",
   "metadata": {},
   "source": [
    "## A. Initial Setup"
   ]
  },
  {
   "cell_type": "markdown",
   "metadata": {},
   "source": [
    "### 1. Building Virtual Enviroment\n",
    "The first step was to establish a virtual enviroment with the required libraries. A virtual environment was created with `micromamba`  to ensure that all dependencies, libraries, and tools used in the project are isolated from the host system. This approach prevents version conflicts and facilitates seamless collaboration and deployment.\n",
    "\n",
    "```bash\n",
    "micromamba create ./.conda conda pydub ffmpeg cupy pytorch\n",
    "```"
   ]
  },
  {
   "cell_type": "markdown",
   "metadata": {},
   "source": [
    "### 2. Importing Libraries\n",
    "From these libraries, and from some of the standard library we can now import the specific parts of the library that we need for this project."
   ]
  },
  {
   "cell_type": "code",
   "execution_count": 1800,
   "metadata": {},
   "outputs": [],
   "source": [
    "# Standard Library\n",
    "import time\n",
    "import os\n",
    "import sys\n",
    "import re\n",
    "import warnings\n",
    "from datetime import datetime\n",
    "from typing import Generator, Optional, Callable, List\n",
    "# Optional is akin to the Maybe monad. A monad is a moniod in the category of endofunctors.\n",
    "from contextlib import contextmanager\n",
    "\n",
    "# Disable only FutureWarnings - they are annoying\n",
    "warnings.simplefilter(action='ignore', category=FutureWarning)\n",
    "\n",
    "# Anaconda Libraries\n",
    "import pandas as pd\n",
    "import numpy as np\n",
    "import scipy as sp\n",
    "from IPython.display import display, HTML, DisplayHandle\n",
    "from sklearn.model_selection import train_test_split\n",
    "from sklearn.preprocessing import MinMaxScaler\n",
    "from sklearn.neighbors import KNeighborsClassifier\n",
    "from sklearn.tree import DecisionTreeClassifier\n",
    "from sklearn.metrics import classification_report\n",
    "from sklearn.model_selection import cross_val_score\n",
    "from sklearn.neural_network import MLPClassifier\n",
    "import matplotlib.pyplot as plt\n",
    "\n",
    "# Third Party Libraries\n",
    "import cupy as cp\n",
    "import cupyx.scipy.fft as cufft\n",
    "import cupyx.scipy.signal as cusig\n",
    "from pydub import AudioSegment\n",
    "from pydub.utils import mediainfo\n",
    "\n"
   ]
  },
  {
   "cell_type": "markdown",
   "metadata": {},
   "source": [
    "#### a) Overview of Libraries and their purposes"
   ]
  },
  {
   "cell_type": "markdown",
   "metadata": {},
   "source": [
    "##### (i) `pydub`\n",
    "`pydub` is a library used for simple processing of audio files. It provides a simple means for decoding mp3 files in python, and manipulating the audio data in a relatively basic way. `pydub` provides the ability to split up audio files as if they were python lists where the index of the list is the number of miliseconds from the begining of the file. With the addition of another library called `simpleaudio` audio can be played directly with python, but for this project all audio files will exported and displayed with html in markdown cells.\n",
    "```python\n",
    "# loads audio file\n",
    "sound = AudioSegment.from_file(filename, format='wav')\n",
    "\n",
    "# cuts the sound to only the first second of the file\n",
    "sound = sound[:1000]\n",
    "\n",
    "# returns the signal array for more nuanced signal manipulation\n",
    "signal = sound.get_array_of_samples()\n",
    "\n",
    "# returns a list of mono sounds for each channel in the audio file\n",
    "sounds = sound.split_to_mono()\n",
    "```\n",
    "Metadata of audio files is also accessed with pydub either through the `pydub.AudioSegment` object or through the `pydub.utils.mediainfo` function.\n",
    "```python\n",
    "# the length of the audio file in miliseconds\n",
    "len(sound)\n",
    "\n",
    "# the sample rate of the audio file\n",
    "sound.frame_rate\n",
    "\n",
    "# the number of channels in the audio file\n",
    "sound.channels\n",
    "\n",
    "# returns the name of the format used to store the audio file\n",
    "mediainfo(filename)['format_name']\n",
    "\n",
    "# returns the sample format, needed to get the bit depth of the file\n",
    "mediainfo(filename)['sample_fmt']\n",
    "```\n"
   ]
  },
  {
   "cell_type": "markdown",
   "metadata": {},
   "source": [
    "##### (ii) `ffmpeg`\n",
    "`ffmpeg` is a powerful tool for handling a wide variety of media formats, including audio and video. Within this environment, `ffmpeg` serves as the backend for `pydub` to decode `.mp3` files. By default, when an `.mp3` file is loaded using `pydub`, `ffmpeg` is called automatically to handle the decoding. This integration ensures that the project can work seamlessly with compressed audio formats like `.mp3`.\n",
    "```python\n",
    "# decodes codec with ffmpeg and returns the AudioSegment object as normal\n",
    "sound = AudioSegment.from_file(filename, format='mp3')\n",
    "```"
   ]
  },
  {
   "cell_type": "markdown",
   "metadata": {},
   "source": [
    "##### (iii) `cupy`\n",
    "`cupy` is a GPU-accelerated library that provides a drop-in replacement for the `numpy` and `scipy` libraries, leveraging NVIDIA's CUDA toolkit for GPU-accelerated parallel processing. This allows for significant performance improvements when performing computationally intensive tasks, such as Fourier transformations, matrix operations, and large-scale data manipulations.\n",
    "\n",
    "In this project, `cupy` was particularly useful for processing large audio datasets and accelerating tasks like feature extraction and signal transformations, where CPU-based computation would be too slow.\n",
    "```python\n",
    "import cupy as cp\n",
    "\n",
    "# Create a large random array on the GPU\n",
    "gpu_array = cp.random.rand(1000000)\n",
    "\n",
    "# Perform fast computations on the GPU\n",
    "mean_value = cp.mean(gpu_array)\n",
    "```\n",
    "Arrays in match the syntax of `numpy.ndarray` objects and `scipy` methods can be called via the `cupyx.scipy` library.\n",
    "\n",
    "**CUDA-Specific Features**\n",
    "\n",
    "While `cupy` emulates `numpy` and `scipy` functionality, it also offers CUDA-specific tools to optimize memory and computation. These are critical for managing GPU resources efficiently when working with large datasets or computationally intensive tasks.\n",
    "\n",
    " - **Device Management:** `cupy` supports multi-GPU setups and allows explicit control over which GPU device is used:"
   ]
  },
  {
   "cell_type": "code",
   "execution_count": 1801,
   "metadata": {},
   "outputs": [
    {
     "data": {
      "text/plain": [
       "<CUDA Device 0>"
      ]
     },
     "execution_count": 1801,
     "metadata": {},
     "output_type": "execute_result"
    }
   ],
   "source": [
    "gpu = cp.cuda.Device(0)  # Access the first GPU\n",
    "gpu.use()  # Set it as the active GPU"
   ]
  },
  {
   "cell_type": "markdown",
   "metadata": {},
   "source": [
    " - **Memory Management**: Memory allocation and deallocation are handled through memory pools to reduce overhead during GPU memory operations. The default memory pool can be configured to limit VRAM usage:"
   ]
  },
  {
   "cell_type": "code",
   "execution_count": 1802,
   "metadata": {},
   "outputs": [],
   "source": [
    "# Set the memory pool limit to 75% of the total VRAM\n",
    "vram_pool = cp.get_default_memory_pool()\n",
    "with gpu:\n",
    "    vram_pool.set_limit(fraction=0.75)\n",
    "\n",
    "# Clear the memory pool\n",
    "vram_pool.free_all_blocks()"
   ]
  },
  {
   "cell_type": "markdown",
   "metadata": {},
   "source": [
    "    This method helps ensure explicit memory errors occur and stop the program speeding up debugging. `cupy` will run without manual allocation of ram it is just more likely to have problems related to memory overflow without explcitly explaining the cause of the progam error.\n",
    "\n",
    " - **FFT Plans with `cupy.cuda.cufft`:** `cupy` provides access to CUDA's FFT library (`cuFFT`), which allows for pre-planning and optimizing FFT operations. Each FFT plan is formed based on the shape of the input array. To improve performance an prevent recalculating FFT plans, the resulting FFT plan is automatically cached in the default memory pool. To perform an FFT without caching the FFT plan, you can manually create a plan and pass the plan into the FFT, or you can clear the cache of the FFT plan whenever you like with a simple syntax.\n",
    "```python\n",
    "with cufft.get_fft_plan(signal, value_type='R2C'):  # Create FFT plan and pass into FFT function\n",
    "    gpu_fft = cufft.rfft(signal, overwrite_x=True)  # This does not cache FFT plan\n",
    "\n",
    "# or clear the cache at any point\n",
    "cp.fft.config.clear_plan_cache()\n",
    "```\n"
   ]
  },
  {
   "cell_type": "markdown",
   "metadata": {},
   "source": [
    "##### (iv) `pytorch`\n",
    "`pytorch` is a widely used library for building and training neural networks chosen because of its simple integration with `numpy` arrays. Most of the models we will train in this notebook can be trained with libraries from the anaconda collection but `pytorch` provides an ability to make customizable networks, and networks of different forms, like Convolutional Neural Networks (CNN) and Reccurent Neural Networks (RNN)."
   ]
  },
  {
   "cell_type": "markdown",
   "metadata": {},
   "source": [
    "### 3. Establishing Utility Functions"
   ]
  },
  {
   "cell_type": "markdown",
   "metadata": {},
   "source": [
    "#### a) Simple Aliases"
   ]
  },
  {
   "cell_type": "code",
   "execution_count": 1803,
   "metadata": {},
   "outputs": [],
   "source": [
    "def load_sound_file(file: str) -> Optional[AudioSegment]:\n",
    "    \"\"\"Method for loading an audio file and ensuring that the correct format is used to decode the file.\n",
    "\n",
    "    Args:\n",
    "        file (str): The path to the file to be loaded\n",
    "    \n",
    "    Returns:\n",
    "       Optional[AudioSegment]: The audio file as an AudioSegment object, or None if an error occurs while loading the file.\n",
    "    \"\"\"\n",
    "    try:\n",
    "        return AudioSegment.from_file(file, format=mediainfo(file)['format_name'])\n",
    "    except: # If the file cannot be loaded, print an error message and return None\n",
    "        print(f\"Error loading file {file}\")\n",
    "        print(f'Format: {mediainfo(file)[\"format_name\"]}')\n",
    "        return None"
   ]
  },
  {
   "cell_type": "markdown",
   "metadata": {},
   "source": [
    "Believe it or not, sometimes the filename ends in `.mp3` but the actual internal format is used is that of a `.wav` file. In those cases `mediainfo(file)['format_name']` will return the actual internal format. "
   ]
  },
  {
   "cell_type": "code",
   "execution_count": 1804,
   "metadata": {},
   "outputs": [],
   "source": [
    "def print_boundry(message: str) -> None:\n",
    "    \"\"\"Print a message surrounded by a line of dashes with a total length of 100 characters\n",
    "    \n",
    "    Args:\n",
    "        message (str): The message to be printed\n",
    "    \"\"\"\n",
    "    length = (100 - len(message)) // 2\n",
    "    print('-' * length, message, '-' * length)"
   ]
  },
  {
   "cell_type": "code",
   "execution_count": 1805,
   "metadata": {},
   "outputs": [],
   "source": [
    "# Type Aliases\n",
    "ndarray = np.ndarray | cp.ndarray\n",
    "number = int | float"
   ]
  },
  {
   "cell_type": "markdown",
   "metadata": {},
   "source": [
    "#### b) Data Conversions"
   ]
  },
  {
   "cell_type": "code",
   "execution_count": 1806,
   "metadata": {},
   "outputs": [],
   "source": [
    "def percentage_color_conversion(input_value: number, input_min: int=0, input_max: int=100, output_min: int=0, output_max: int=110) -> float:\n",
    "    \"\"\"Convert a percentage value to a color in the range of red to green.\n",
    "    The input value is mapped to a non-linear scale to create a more pronounced color change effect.\n",
    "    The output value is in the range of 0 to 110, which corresponds to the hue values in an HSV color space for red to green.\n",
    "\n",
    "    Args:\n",
    "        input_value (int | float): The value to be converted.\n",
    "        input_min (int, optional): The minimum value of the input range. Defaults to 0.\n",
    "        input_max (int, optional): The maximum value of the input range. Defaults to 100.\n",
    "        output_min (int, optional): The minimum value of the output range. Defaults to 0.\n",
    "        output_max (int, optional): The maximum value of the output range. Defaults to 110.\n",
    "\n",
    "    Returns:\n",
    "        float: The converted value within the output range.\n",
    "    \"\"\"\n",
    "    normalized_input = (input_value - input_min) / (input_max - input_min) # Normalize the input value to a range of 0 to 1\n",
    "    scaled_value = (np.exp(normalized_input) - 1) / (np.e - 1) # Apply an exponential function to create a non-linear scale\n",
    "    scaled_value = (np.exp(scaled_value) - 1) / (np.e - 1) # Repeat the function to create a more pronounced effect\n",
    "    return output_min + scaled_value * (output_max - output_min) # Map the scaled value to the output range"
   ]
  },
  {
   "cell_type": "markdown",
   "metadata": {},
   "source": [
    "#### c) Human Readable Conversion Functions"
   ]
  },
  {
   "cell_type": "code",
   "execution_count": 1807,
   "metadata": {},
   "outputs": [
    {
     "name": "stdout",
     "output_type": "stream",
     "text": [
      "123456789 bytes is equal to 117.74 MB\n",
      "12345 seconds with a depth of 3 (default depth) is equal to 03:25:45\n",
      "12.345 seconds with a depth of 1 is equal to 12:345\n"
     ]
    }
   ],
   "source": [
    "def bytes_to_human_readable(n: int, depth: int=2) -> str:\n",
    "    \"\"\"Convert a byte value into a human-readable string with appropriate units.\n",
    "\n",
    "    Args:\n",
    "        n (int): The number of bytes.\n",
    "        depth (int, optional): The number of decimal places to include in the output. Default is 2.\n",
    "\n",
    "    Returns:\n",
    "        str: A string representing the byte value in a human-readable format with units (B, KB, MB, GB, TB, PB).\n",
    "    \"\"\"\n",
    "    for unit in ['B', 'KB', 'MB', 'GB', 'TB']:\n",
    "        if n < 1024:\n",
    "            return f\"{n:.{depth}f} {unit}\"\n",
    "        n /= 1024\n",
    "    return f\"{n:.{depth}f} PB\"\n",
    "\n",
    "\n",
    "def time_to_human_readable(seconds: number, depth: int=3) -> str:\n",
    "    \"\"\"Convert a time duration in seconds to a human-readable string format.\n",
    "\n",
    "    Args:\n",
    "        seconds (int|float): The time duration in seconds.\n",
    "        depth (int): The level of detail for the output format. \n",
    "                    - 0 or 1: Returns seconds (with milliseconds if `seconds` is a float).\n",
    "                    - 2: Returns minutes and seconds.\n",
    "                    - 3: Returns hours, minutes, and seconds.\n",
    "\n",
    "    Returns:\n",
    "        str: The time duration in a human-readable string format.\n",
    "    \"\"\"\n",
    "    if depth == 0 or depth == 1: # If the depth is 0 or 1, return the seconds with or without milliseconds\n",
    "        if isinstance(seconds, int): # If the seconds is an integer, return the number of seconds in 'x seconds' format\n",
    "            return f'{seconds} seconds'\n",
    "        # If the seconds is a float, return the time in 'xx:xxx' format with seconds and milliseconds\n",
    "        miliseconds = (seconds - int(seconds)) * 1000\n",
    "        return f'{int(seconds):02}:{int(miliseconds):03}'\n",
    "    \n",
    "    if depth == 2: # If the depth is 2, return the time in 'xx:xx' format with minutes and seconds\n",
    "        minutes, seconds = divmod(seconds, 60)\n",
    "        return f'{int(minutes):02}:{int(seconds):02}'\n",
    "    \n",
    "    # If the depth anything other than 0, 1 or 2 return the time in 'xx:xx:xx' format with hours, minutes, and seconds\n",
    "    hours, rem = divmod(seconds, 3600)\n",
    "    minutes, seconds = divmod(rem, 60)\n",
    "    return f'{int(hours):02}:{int(minutes):02}:{int(seconds):02}'\n",
    "\n",
    "\n",
    "print(f'123456789 bytes is equal to {bytes_to_human_readable(123456789)}')\n",
    "print(f'12345 seconds with a depth of 3 (default depth) is equal to {time_to_human_readable(12345)}')\n",
    "print(f'12.345 seconds with a depth of 1 is equal to {time_to_human_readable(12.345, 1)}')\n"
   ]
  },
  {
   "cell_type": "markdown",
   "metadata": {},
   "source": [
    "#### c) Process Monitoring and Caching"
   ]
  },
  {
   "cell_type": "markdown",
   "metadata": {},
   "source": [
    "##### (i) Normal, not insane functions"
   ]
  },
  {
   "cell_type": "code",
   "execution_count": 1808,
   "metadata": {},
   "outputs": [],
   "source": [
    "def memory_usage(df: pd.DataFrame) -> int:\n",
    "    \"\"\"Calculate the total memory usage of a pandas DataFrame.\n",
    "\n",
    "    Args:\n",
    "        df (pd.DataFrame): The DataFrame to calculate the memory usage of.\n",
    "\n",
    "    Returns:\n",
    "        int: The total memory usage of the DataFrame in bytes.\n",
    "    \"\"\"\n",
    "    return df.memory_usage(deep=True).sum()\n",
    "\n",
    "\n",
    "def print_memory_usage(df: pd.DataFrame) -> None:\n",
    "    \"\"\"Prints the memory usage of a given pandas DataFrame in a human-readable format.\n",
    "\n",
    "    Args:\n",
    "        df (pd.DataFrame): The DataFrame for which to calculate and print memory usage.\n",
    "    \"\"\"\n",
    "    print(f\"Memory Usage: {bytes_to_human_readable(memory_usage(df))}\")\n",
    "\n",
    "def calculate_time_remaining(start_time: float, iteration: int, length: int) -> str:\n",
    "    \"\"\"Estimates the time remaining for a process.\n",
    "\n",
    "    Args:\n",
    "        start_time (float): The start time of the process in seconds since the epoch (returned from `time.time()`).\n",
    "        iteration (int): The current iteration number.\n",
    "        length (int): The total number of iterations.\n",
    "\n",
    "    Returns:\n",
    "        str: The estimated time remaining in a human-readable format.\n",
    "    \"\"\"\n",
    "    elapsed_time = time.time() - start_time\n",
    "    iterations_remaining = length - iteration\n",
    "    time_per_iteration = elapsed_time / iteration\n",
    "    time_remaining = iterations_remaining * time_per_iteration\n",
    "    time_remaining_str = time_to_human_readable(time_remaining)\n",
    "    return time_remaining_str\n",
    "\n",
    "\n",
    "def print_progress_bar(\n",
    "        iteration: int, \n",
    "        max_iteration: int, \n",
    "        message: str='', \n",
    "        display_handler: Optional[DisplayHandle]=None, \n",
    "        treat_as_data: bool=False\n",
    "    ) -> DisplayHandle:\n",
    "    \"\"\"Print a progress bar that updates in place.\n",
    "\n",
    "    Args:\n",
    "        iteration (int): Current iteration or progress value.\n",
    "        max_iteration (int): Maximum iteration or maximum value for the progress.\n",
    "        display_handler (DisplayHandle, optional): An existing display handler to update the progress bar. Defaults to None where a new display handler is generated. \n",
    "        message (str, optional): Additional message to display alongside the progress bar.\n",
    "        treat_as_data (bool, optional): If True, converts iteration and length to human-readable data format. Defaults to False.\n",
    "\n",
    "    Returns:\n",
    "        DisplayHandle: The display handler used to render the progress bar.\n",
    "                         - **In order to update the progress bar, pass this handler to the next call of this function.**\n",
    "    \n",
    "    Notes:\n",
    "        This function is intended for use in Jupyter notebooks, and uses the IPython display module to render the progress bar as HTML.\n",
    "        That HTML is rendered in place, allowing the progress bar to update in place.\n",
    "    \"\"\"\n",
    "    progress = int((iteration / max_iteration) * 100) # Calculate progress as a whole number percentage\n",
    "\n",
    "    if treat_as_data: # Convert the iteration and length to human-readable data format if specified\n",
    "        iteration: str = bytes_to_human_readable(iteration)\n",
    "        max_iteration: str = bytes_to_human_readable(max_iteration)\n",
    "\n",
    "    # Get the color for the progress bar based on the percentage value using css hsl color format\n",
    "    color = f'hsl({percentage_color_conversion(progress)}, 100%, 50%)'\n",
    "    # Create the progress bar as a string of equal signs with the appropriate color\n",
    "    # This is formatted in html to allow for color styling\n",
    "    bar = f'<span style=\"color: {color};\">{\"=\" * progress}</span>{\" \" * (100 - progress)}'\n",
    "    style = 'font-family: monospace; font-size: 13px;' # Ensure monospacing for consistent character width\n",
    "    # Create the message to display text in html format\n",
    "    html_string = f'<pre style=\"{style}\">[{bar}] - {iteration}/{max_iteration}'\n",
    "    if message: # Add the message to the html string if provided\n",
    "        html_string += f' - {message}'\n",
    "    html_string += '</pre>'\n",
    "\n",
    "    # display the message as HTML, updating the display handler if provided\n",
    "    if not display_handler:\n",
    "        display_handler = display(HTML(html_string), display_id=True)\n",
    "    else:\n",
    "        display_handler.update(HTML(html_string))\n",
    "    return display_handler # Return the display handler for updating the progress bar"
   ]
  },
  {
   "cell_type": "markdown",
   "metadata": {},
   "source": [
    "The `print_progress_bar` is not the simplest design for what that is, and there is no reason for it to be rendered in html except that it allows for a smoother gradient of color, and organizing it like this allows its output to be seperated from other prints in output cells in jupyter notebook. The main reason for this was to integrate easier when overriding the standard IO later in the project."
   ]
  },
  {
   "cell_type": "code",
   "execution_count": 1809,
   "metadata": {},
   "outputs": [
    {
     "data": {
      "text/html": [
       "<pre style=\"font-family: monospace; font-size: 13px;\">[<span style=\"color: hsl(110.0, 100%, 50%);\">====================================================================================================</span>] - 100/100 - Progress: 100%</pre>"
      ],
      "text/plain": [
       "<IPython.core.display.HTML object>"
      ]
     },
     "metadata": {},
     "output_type": "display_data"
    }
   ],
   "source": [
    "display_handler = None\n",
    "for i in range(100):\n",
    "    time.sleep(0.1)\n",
    "    display_handler = print_progress_bar(i+1, 100, message=f'Progress: {i+1}%', display_handler=display_handler)\n",
    "del display_handler"
   ]
  },
  {
   "cell_type": "markdown",
   "metadata": {},
   "source": [
    "##### (ii) Insane ideas that worked better than expected"
   ]
  },
  {
   "cell_type": "markdown",
   "metadata": {},
   "source": [
    "The following script is used exclusively to replace the \"verbose\" form of the training phase of a `sklearn.neural_network.MLPClassifier`."
   ]
  },
  {
   "cell_type": "code",
   "execution_count": 1810,
   "metadata": {},
   "outputs": [],
   "source": [
    "class MLPTrainingMonitor:\n",
    "    \"\"\"A class to monitor and reformat training output for `sklearn.neural_network.MLPClassifier`.\n",
    "\n",
    "    This class overrides the standard output stream to intercept and process verbose messages from the MLPClassifier \n",
    "    during training. It parses these messages to display a real-time progress bar, provide an estimate of the remaining \n",
    "    training time, and optionally save or load training metadata for later use.\n",
    "\n",
    "    The key use case is to provide a cleaner, more informative visualization of the training process than the default \n",
    "    output from `sklearn.neural_network.MLPClassifier`.\n",
    "\n",
    "    Methods:\n",
    "    --------\n",
    "    ```python\n",
    "    monitor_engine() -> None\n",
    "    setup_training(max_iterations: int, learning_rate: float) -> None\n",
    "    end_training(path: str) -> None\n",
    "    display_training(path: str) -> None\n",
    "    training_simulator(iterations: int) -> None\n",
    "    ```\n",
    "    \n",
    "    Example Usage:\n",
    "    --------------\n",
    "    ```python\n",
    "    nn = sklearn.neural_network.MLPClassifier(max_iter=100,\n",
    "                                              verbose=True,\n",
    "                                              hidden_layer_sizes=[100, 10],\n",
    "                                              learning_rate_init=0.01,\n",
    "                                              learning_rate='adaptive')\n",
    "\n",
    "    with MLPTrainingMonitor.monitor_engine():\n",
    "        MLPTrainingMonitor.setup_training(max_iterations=100, learning_rate=0.01)\n",
    "        nn.fit(X_train, y_train)\n",
    "        MLPTrainingMonitor.end_training(path='path/to/save')\n",
    "    ```\n",
    "    \"\"\"\n",
    "    def __init__(self) -> None:\n",
    "        self._start_time = None\n",
    "        self._max_iterations = 0\n",
    "        self._iteration = 0\n",
    "        self._loss = 0\n",
    "        self._learning_rate = 0\n",
    "        self._min_loss = 10000\n",
    "        self._iterations_since_minimum = 0\n",
    "        self._display_handler = None\n",
    "\n",
    "\n",
    "    def flush(self) -> None:\n",
    "        \"\"\"Required method for the stream class, but not used in this implementation.\"\"\"\n",
    "        pass\n",
    "\n",
    "\n",
    "    def write(self, text: str) -> None:\n",
    "        \"\"\"Parse and process the text output from the MLPClassifier during training.\n",
    "        This method gets called in place of the standard print() function when the monitor is active.\n",
    "\n",
    "        Args:\n",
    "            text (str): The text output from the MLPClassifier during training.\n",
    "        \"\"\"\n",
    "        # Check the text for specific keywords that indicate the type of message\n",
    "        if 'SETUP:' in text:\n",
    "            self._setup(text)\n",
    "            return\n",
    "        elif 'FINISH:' in text:\n",
    "            self._finish(text)\n",
    "            return\n",
    "        elif 'DISPLAY:' in text:\n",
    "            self._display(text)\n",
    "            return\n",
    "        \n",
    "        # If the text does not contain a keyword, check for specific messages that contain data to be extracted\n",
    "        elif 'Iteration' in text:\n",
    "            self._iteration = int(text.split(' ')[1][:-1])\n",
    "            self._loss = float(text.split('loss =')[1].strip())\n",
    "            if self._min_loss > self._loss: # Check if the current loss is the minimum loss seen so far\n",
    "                self._min_loss = self._loss\n",
    "                self._iterations_since_minimum = 0\n",
    "            else: # If the loss is not the minimum, increment the counter\n",
    "                self._iterations_since_minimum += 1\n",
    "        elif 'learning rate' in text: # If the text does not contain Iteration, check for the learning rate setting message\n",
    "            self._learning_rate = float(text.split('Setting learning rate to ')[1].strip())\n",
    "        else: # If the text does not contain any relevant information, return early\n",
    "            return\n",
    "        \n",
    "        # Create a message to display the current progress and training information\n",
    "        message = f'\\nLoss: {self._loss:.6f}'\n",
    "        message += f' - Min Loss: {self._min_loss:.6f}'\n",
    "        message += f' - Iterations Since Minimum: {self._iterations_since_minimum}'\n",
    "        message += f' - Learning Rate: {self._learning_rate:.6f}'\n",
    "        message += f' - Estimated Time Remaining: {calculate_time_remaining(self._start_time, self._iteration, self._max_iterations)}'\n",
    "        # Update the progress bar with the current iteration and message\n",
    "        self._display_handler = print_progress_bar(self._iteration, \n",
    "                                                  self._max_iterations,\n",
    "                                                  display_handler=self._display_handler,\n",
    "                                                  message=message)\n",
    "    \n",
    "\n",
    "    def _setup(self, text: str) -> None:\n",
    "        \"\"\"Parses setup information and initializes monitoring attributes.\n",
    "\n",
    "        Args:\n",
    "            text (str): The setup message, expected to include maximum iterations and initial learning rate.\n",
    "             - Input Example: 'SETUP: 100 0.01'\n",
    "        \"\"\"\n",
    "        self.__init__() # Reset the attributes to their default values\n",
    "        # Extract the start time and setup information from the text\n",
    "        self._start_time = time.time()\n",
    "        self._max_iterations = int(text.split(' ')[1].strip())\n",
    "        self._learning_rate = float(text.split(' ')[2].strip())\n",
    "    \n",
    "\n",
    "    def _finish(self, text: str) -> None:\n",
    "        \"\"\"Handles the end of training, calculates total time, and saves results.\n",
    "\n",
    "        Args:\n",
    "            text (str): The finish message, expected to include the path to save the training monitor data.\n",
    "             - Input Example: 'FINISH: /path/to/save'\n",
    "        \"\"\"\n",
    "        time_taken = time.time() - self._start_time # Calculate the time taken to complete the training process\n",
    "        # Create a message to display the final results of the training process\n",
    "        message = f'Loss: {self._loss:.6f}'\n",
    "        message += f' - Min Loss: {self._min_loss:.6f}'\n",
    "        message += f' - Final Iteration: {self._iteration}'\n",
    "        message += f' - Learning Rate: {self._learning_rate}'\n",
    "        message += f' - Time to complete: {time_to_human_readable(time_taken)}'\n",
    "        # Update the display with the final results\n",
    "        self._display_handler.update(HTML(f'<pre style=\"font-family: monospace; font-size: 13px;\">{message}</pre>'))\n",
    "\n",
    "        # Save the training monitor data to a csv file\n",
    "        path = text.split(' ')[1].strip()\n",
    "        columns = ['loss', 'min_loss', 'final_iteration', 'learning_rate', 'time_taken']\n",
    "        data = [[self._loss, self._min_loss, self._iteration, self._learning_rate, time_taken]]\n",
    "        df = pd.DataFrame(data, columns=columns)\n",
    "        path += '/training_monitor.csv'\n",
    "        df.to_csv(path, index=False)\n",
    "    \n",
    "\n",
    "    def _display(self, text: str) -> None:\n",
    "        \"\"\"Displays the training information from a saved csv file.\n",
    "\n",
    "        Args:\n",
    "            text (str): The display message, expected to include the path to load the training monitor data.\n",
    "             - Input Example: 'DISPLAY: /path/to/load'\n",
    "        \"\"\"\n",
    "        df = pd.read_csv(text.split(' ')[1].strip() + '/training_monitor.csv') # Load the training monitor data from the csv file\n",
    "        # Extract the training information from the data frame\n",
    "        self._loss = df.loss.values[0]\n",
    "        self._min_loss = df.min_loss.values[0]\n",
    "        final_iteration = df.final_iteration.values[0]\n",
    "        self._learning_rate = df.learning_rate.values[0]\n",
    "        time_taken = df.time_taken.values[0]\n",
    "        # Create a message to display the training information\n",
    "        message = f'Loss: {self._loss:.6f}'\n",
    "        message += f' - Min Loss: {self._min_loss:.6f}'\n",
    "        message += f' - Final Iteration: {final_iteration}'\n",
    "        message += f' - Learning Rate: {self._learning_rate}'\n",
    "        message += f' - Time to complete: {time_to_human_readable(time_taken)}'\n",
    "        # Display the training information\n",
    "        if self._display_handler is None:\n",
    "            self._display_handler = display(HTML(f'<pre style=\"font-family: monospace; font-size: 13px;\">{message}</pre>'))\n",
    "        else:\n",
    "            self._display_handler = self._display_handler.update(HTML(f'<pre style=\"font-family: monospace; font-size: 13px;\">{message}</pre>'))\n",
    "        return\n",
    "\n",
    "\n",
    "    @staticmethod\n",
    "    def training_simulator(iterations: int=100) -> None:\n",
    "        \"\"\"Simulates the output of the training process for testing purposes.\"\"\"\n",
    "        for i in range(iterations):\n",
    "            time.sleep(0.1)\n",
    "            print(f'Iteration {i + 1}, loss = {np.random.uniform(0, 1):.4f}', flush=True)\n",
    "\n",
    "\n",
    "    @staticmethod\n",
    "    def setup_training(max_iterations: int, learning_rate: float) -> None:\n",
    "        \"\"\"Sends the setup message to the monitor to initialize the training process.\"\"\"\n",
    "        print(f'SETUP: {max_iterations} {learning_rate}')\n",
    "\n",
    "\n",
    "    @staticmethod\n",
    "    def end_training(path: str) -> None:\n",
    "        \"\"\"Sends a finish message to save training results.\n",
    "        \n",
    "        Args:\n",
    "            path (str): The path of the ***directory*** to put the `training_monitor.csv` file.\n",
    "        \"\"\"\n",
    "        print(f'FINISH: {path}')\n",
    "\n",
    "\n",
    "    @staticmethod\n",
    "    def display_training(path: str) -> None:\n",
    "        \"\"\"Loads and displays training results from a previous session.\n",
    "        \n",
    "        Args:\n",
    "            path (str): The path of the ***directory*** containing the `training_monitor.csv` file.\n",
    "        \"\"\"\n",
    "        print(f'DISPLAY: {path}')\n",
    "\n",
    "\n",
    "    @classmethod\n",
    "    @contextmanager # The contextmanager decorator allows the class method to be used in a 'with' statement\n",
    "    def monitor_engine(cls) -> Generator[None, None, None]:\n",
    "        \"\"\"A context manager to activate the training monitor.\n",
    "\n",
    "        Replaces the standard output stream with an instance of this class, allowing all printed messages \n",
    "        within the `with` block to be intercepted and processed.\n",
    "        \n",
    "        Example Usage:\n",
    "        --------------\n",
    "        ```python\n",
    "        nn = sklearn.neural_network.MLPClassifier(max_iter=100,\n",
    "                                                  verbose=True,\n",
    "                                                  hidden_layer_sizes=[100, 10],\n",
    "                                                  learning_rate_init=0.01,\n",
    "                                                  learning_rate='adaptive')\n",
    "        \n",
    "        with MLPTrainingMonitor.monitor_engine():\n",
    "            MLPTrainingMonitor.setup_training(max_iterations=100, learning_rate=0.01)\n",
    "            nn.fit(X_train, y_train)\n",
    "            MLPTrainingMonitor.end_training(path='path/to/save')\n",
    "        ```\n",
    "        \"\"\"\n",
    "        #----From here on gets run before the code inside the with statement\n",
    "        original_stdout = sys.stdout # Save the original standard output stream\n",
    "        sys.stdout = cls() # Replace the standard output stream with an instance of this class\n",
    "        try:\n",
    "            yield # Yeild control back to the with statement\n",
    "\n",
    "        #----From here on gets run after the code inside the with statement\n",
    "        finally:\n",
    "            sys.stdout = original_stdout # Restore the original standard output stream\n"
   ]
  },
  {
   "cell_type": "markdown",
   "metadata": {},
   "source": [
    "This is a complicated class that allows for one simple thing: to reformat the verbose message in the `sklearn.neural_network.MLPClassifier` training function. By default the MLPClassifier prints messages that look something like the result of this method:"
   ]
  },
  {
   "cell_type": "code",
   "execution_count": 1811,
   "metadata": {},
   "outputs": [
    {
     "name": "stdout",
     "output_type": "stream",
     "text": [
      "Iteration 1, loss = 0.5894\n",
      "Iteration 2, loss = 0.5973\n",
      "Iteration 3, loss = 0.7543\n",
      "Iteration 4, loss = 0.3161\n",
      "Iteration 5, loss = 0.0714\n"
     ]
    }
   ],
   "source": [
    "MLPTrainingMonitor.training_simulator(5)"
   ]
  },
  {
   "cell_type": "markdown",
   "metadata": {},
   "source": [
    "In this case the loss is randomized but in the actual training the loss should steadily decline, and if it does not decline in 10 iterations it will adjust the learning rate to compensate. This class will watch everything sent to the standard output and will update a progress bar with the relevant information in a clean way with an estimation on time remaining. The main motivation for this function was to be able to estimate the time to train a model before it finished.\n",
    "\n",
    "The usage of this class is quite simple. The main magic is behind the `MLPTrainingMonitor.monitor_engine` class method. It is designed to be used in a with statement like this:\n",
    "```python\n",
    "with MLPTrainingMonitor.monitor_engine():\n",
    "    # Anything printed here will be processed by the MLPTrainingMonitor.write() method instead of the standard output stream\n",
    "```\n",
    "\n",
    " - `MLPTrainingMonitor.setup_training` method should be ran first inside the with statement with the max iterations, and learning rate used to setup the MLPClassifier.\n",
    "\n",
    " - Next the model should be trainined against the data. Here the progress bar will be printed with the relevant data. `MLPTrainingMonitor.training_simulator` can be ran instead to emulate what that would look like.\n",
    "\n",
    " - `MLPTrainingMonitor.end_training` can be run in the end to save the results of the model training to be displayed next time instead of retraining the same model.\n",
    "\n",
    " - `MLPTrainingMonitor.display_training` can be run in place of the training phase if there is an existing record of training results to display the results without training the model."
   ]
  },
  {
   "cell_type": "code",
   "execution_count": 1812,
   "metadata": {},
   "outputs": [
    {
     "data": {
      "text/html": [
       "<pre style=\"font-family: monospace; font-size: 13px;\">[<span style=\"color: hsl(110.0, 100%, 50%);\">====================================================================================================</span>] - 100/100 - \n",
       "Loss: 0.319500 - Min Loss: 0.002600 - Iterations Since Minimum: 28 - Learning Rate: 0.010000 - Estimated Time Remaining: 00:00:00</pre>"
      ],
      "text/plain": [
       "<IPython.core.display.HTML object>"
      ]
     },
     "metadata": {},
     "output_type": "display_data"
    }
   ],
   "source": [
    "with MLPTrainingMonitor.monitor_engine():\n",
    "    MLPTrainingMonitor.setup_training(100, 0.01)\n",
    "    MLPTrainingMonitor.training_simulator(100)"
   ]
  },
  {
   "cell_type": "markdown",
   "metadata": {},
   "source": [
    "#### d) Signal Generation\n",
    "###### (Hopefully what these do is relatively self evident)"
   ]
  },
  {
   "cell_type": "markdown",
   "metadata": {},
   "source": [
    "##### (i) Sine Wave"
   ]
  },
  {
   "cell_type": "code",
   "execution_count": 1813,
   "metadata": {},
   "outputs": [
    {
     "data": {
      "text/plain": [
       "<_io.BufferedRandom name='exports/440hz.wav'>"
      ]
     },
     "execution_count": 1813,
     "metadata": {},
     "output_type": "execute_result"
    }
   ],
   "source": [
    "def generate_sine_wave(frequency: int, duration: number, sample_rate: int=44100, magnitude: float=0.5) -> AudioSegment:\n",
    "    \"\"\"Generate a sine wave `AudioSegment` object.\n",
    "\n",
    "    Args:\n",
    "        frequency (int): The frequency of the sine wave in Hertz.\n",
    "        duration (int | float): The duration of the sine wave in seconds.\n",
    "        sample_rate (int, optional): The sample rate in samples per second. Default is 44100.\n",
    "        magnitude (float, optional): The magnitude of the sine wave in the range [0,1]. Default is 0.5.\n",
    "\n",
    "    Returns:\n",
    "        AudioSegment: The generated sine wave.\n",
    "    \"\"\"\n",
    "    t = np.linspace(0, duration, int(sample_rate * duration), endpoint=False)\n",
    "    signal = magnitude * np.sin(2 * np.pi * frequency * t)\n",
    "    signal = np.int16(signal * 32767)\n",
    "    audio = AudioSegment(\n",
    "        signal.tobytes(),\n",
    "        frame_rate=sample_rate,\n",
    "        sample_width=signal.dtype.itemsize,\n",
    "        channels=1\n",
    "    )\n",
    "    return audio\n",
    "\n",
    "generate_sine_wave(440, 10).export('exports/440hz.wav', format='wav')"
   ]
  },
  {
   "cell_type": "markdown",
   "metadata": {},
   "source": [
    "<audio controls>\n",
    "  <source src=\"exports/440hz.wav\" type=\"audio/wav\">\n",
    "Your browser does not support the audio element, but this sounds like a digital tone at A4.\n",
    "</audio>\n",
    "\n",
    "##### (ii) Triangle Wave"
   ]
  },
  {
   "cell_type": "code",
   "execution_count": 1814,
   "metadata": {},
   "outputs": [
    {
     "data": {
      "text/plain": [
       "<_io.BufferedRandom name='exports/440hz_triangle.wav'>"
      ]
     },
     "execution_count": 1814,
     "metadata": {},
     "output_type": "execute_result"
    }
   ],
   "source": [
    "def generate_triangle_wave(frequency: int, duration: number, sample_rate: int=44100, magnitude: float=0.5) -> AudioSegment:\n",
    "    \"\"\"Generate a triangle wave `AudioSegment` object.\n",
    "\n",
    "    Args:\n",
    "        frequency (int): The frequency of the triangle wave in Hz.\n",
    "        duration (int | float): The duration of the audio signal in seconds.\n",
    "        sample_rate (int, optional): The sample rate of the audio signal in samples per second. Defaults to 44100.\n",
    "        magnitude (float, optional): The peak amplitude of the triangle wave in the range [0,1]. Defaults to 0.5.\n",
    "\n",
    "    Returns:\n",
    "        AudioSegment: The generated triangle wave.\n",
    "    \"\"\"\n",
    "    t = np.linspace(0, duration, int(sample_rate * duration), endpoint=False)\n",
    "    signal = magnitude * np.abs(2 * (t * frequency - np.floor(t * frequency + 0.5))) - magnitude\n",
    "    signal = np.int16(signal * 32767)\n",
    "    audio = AudioSegment(\n",
    "        signal.tobytes(),\n",
    "        frame_rate=sample_rate,\n",
    "        sample_width=signal.dtype.itemsize,\n",
    "        channels=1\n",
    "    )\n",
    "    return audio\n",
    "\n",
    "generate_triangle_wave(440, 10).export('exports/440hz_triangle.wav', format='wav')"
   ]
  },
  {
   "cell_type": "markdown",
   "metadata": {},
   "source": [
    "<audio controls>\n",
    "  <source src=\"exports/440hz_triangle.wav\" type=\"audio/wav\">\n",
    "Your browser does not support the audio element, but this sounds like a digital tone at A4, but this time a little buzzier.\n",
    "</audio>\n",
    "\n",
    "##### (iii) Sawtooth Wave"
   ]
  },
  {
   "cell_type": "code",
   "execution_count": 1815,
   "metadata": {},
   "outputs": [
    {
     "data": {
      "text/plain": [
       "<_io.BufferedRandom name='exports/440hz_sawtooth.wav'>"
      ]
     },
     "execution_count": 1815,
     "metadata": {},
     "output_type": "execute_result"
    }
   ],
   "source": [
    "def generate_sawtooth_wave(frequency: int, duration: number, sample_rate: int=44100, magnitude: float=0.5) -> AudioSegment:\n",
    "    \"\"\"Generate a sawtooth wave audio signal.\n",
    "\n",
    "    Args:\n",
    "        frequency (int): The frequency of the sawtooth wave in Hertz.\n",
    "        duration (int | float): The duration of the audio signal in seconds.\n",
    "        sample_rate (int, optional): The sample rate of the audio signal in samples per second. Default is 44100.\n",
    "        magnitude (float, optional): The peak amplitude of the sawtooth wave in the range [0,1]. Default is 0.5.\n",
    "\n",
    "    Returns:\n",
    "        AudioSegment: The generated sawtooth wave.\n",
    "    \"\"\"\n",
    "    t = np.linspace(0, duration, int(sample_rate * duration), endpoint=False)\n",
    "    signal = magnitude * (t * frequency - np.floor(t * frequency + 0.5))\n",
    "    signal = np.int16(signal * 32767)\n",
    "    audio = AudioSegment(\n",
    "        signal.tobytes(),\n",
    "        frame_rate=sample_rate,\n",
    "        sample_width=signal.dtype.itemsize,\n",
    "        channels=1)\n",
    "    return audio\n",
    "\n",
    "generate_sawtooth_wave(440, 10).export('exports/440hz_sawtooth.wav', format='wav')"
   ]
  },
  {
   "cell_type": "markdown",
   "metadata": {},
   "source": [
    "<audio controls>\n",
    "  <source src=\"exports/440hz_sawtooth.wav\" type=\"audio/wav\">\n",
    "Your browser does not support the audio element, but this sounds like a digital tone at A4, but this time a little buzzier.\n",
    "</audio>\n",
    "\n",
    "##### (iv) Square Wave"
   ]
  },
  {
   "cell_type": "code",
   "execution_count": 1816,
   "metadata": {},
   "outputs": [
    {
     "data": {
      "text/plain": [
       "<_io.BufferedRandom name='exports/440hz_square.wav'>"
      ]
     },
     "execution_count": 1816,
     "metadata": {},
     "output_type": "execute_result"
    }
   ],
   "source": [
    "def generate_square_wave(frequency: int, duration: number, sample_rate: int=44100, magnitude: float=0.5) -> AudioSegment:\n",
    "    \"\"\"Generate a square wave audio signal.\n",
    "\n",
    "    Args:\n",
    "        frequency (int): The frequency of the square wave in Hertz.\n",
    "        duration (int | float): The duration of the audio signal in seconds.\n",
    "        sample_rate (int, optional): The sample rate of the audio signal in samples per second. Default is 44100.\n",
    "        magnitude (float, optional): The peak amplitude of the square wave. Default is 0.5.\n",
    "\n",
    "    Returns:\n",
    "        AudioSegment: The generated square wave.\n",
    "    \"\"\"\n",
    "    t = np.linspace(0, duration, int(sample_rate * duration), endpoint=False)\n",
    "    signal = magnitude * sp.signal.square(2 * np.pi * frequency * t)\n",
    "    signal = np.int16(signal * 32767)\n",
    "    audio = AudioSegment(\n",
    "        signal.tobytes(),\n",
    "        frame_rate=sample_rate,\n",
    "        sample_width=signal.dtype.itemsize,\n",
    "        channels=1)\n",
    "    return audio\n",
    "\n",
    "generate_square_wave(440, 10).export('exports/440hz_square.wav', format='wav')"
   ]
  },
  {
   "cell_type": "markdown",
   "metadata": {},
   "source": [
    "<audio controls>\n",
    "  <source src=\"exports/440hz_square.wav\" type=\"audio/wav\">\n",
    "Your browser does not support the audio element, but this sounds like a digital tone at A4, but this time a little buzzier.\n",
    "</audio>\n",
    "\n",
    "\n",
    "##### (v) White Noise"
   ]
  },
  {
   "cell_type": "code",
   "execution_count": 1817,
   "metadata": {},
   "outputs": [
    {
     "data": {
      "text/plain": [
       "<_io.BufferedRandom name='exports/white_noise.wav'>"
      ]
     },
     "execution_count": 1817,
     "metadata": {},
     "output_type": "execute_result"
    }
   ],
   "source": [
    "def generate_white_noise(duration: number, sample_rate: int=44100, magnitude: float=0.5) -> AudioSegment:\n",
    "    \"\"\"\n",
    "    Generate white noise audio segment.\n",
    "\n",
    "    Args:\n",
    "        duration (int | float): Duration of the white noise in seconds.\n",
    "        sample_rate (int, optional): Sample rate of the audio in Hz. Default is 44100 Hz.\n",
    "        magnitude (float, optional): The peak amplitude of the white noise. Default is 0.5.\n",
    "\n",
    "    Returns:\n",
    "        AudioSegment: The generated white noise.\n",
    "    \"\"\"\n",
    "    # Randomly generated samples are the same as white noise\n",
    "    # Thats why blanket radiation picked up by radio telescopes is interpreted as white noise\n",
    "    signal = magnitude * np.random.uniform(low=-1.0, high=1.0, size=int(sample_rate * duration))\n",
    "    signal = np.int16(signal * 32767)\n",
    "    audio = AudioSegment(\n",
    "        signal.tobytes(),\n",
    "        frame_rate=sample_rate,\n",
    "        sample_width=signal.dtype.itemsize,\n",
    "        channels=1)\n",
    "    return audio\n",
    "\n",
    "generate_white_noise(10).export('exports/white_noise.wav', format='wav')"
   ]
  },
  {
   "cell_type": "markdown",
   "metadata": {},
   "source": [
    "<audio controls>\n",
    "  <source src=\"exports/white_noise.wav\" type=\"audio/wav\">\n",
    "Your browser does not support the audio element, but this sounds like a digital tone at A4, but this time a little buzzier.\n",
    "</audio>\n",
    "\n",
    "##### (vi) Pink Noise"
   ]
  },
  {
   "cell_type": "code",
   "execution_count": 1818,
   "metadata": {},
   "outputs": [
    {
     "data": {
      "text/plain": [
       "<_io.BufferedRandom name='exports/pink_noise.wav'>"
      ]
     },
     "execution_count": 1818,
     "metadata": {},
     "output_type": "execute_result"
    }
   ],
   "source": [
    "def generate_pink_noise(duration: number, sample_rate: int=44100, magnitude: float=0.5) -> AudioSegment:\n",
    "    \"\"\"Generates pink noise audio.\n",
    "    Pink noise is a signal with a frequency power spectrum that is inversely proportional to its frequency.\n",
    "    This function generates pink noise by filtering white noise.\n",
    "\n",
    "    Args:\n",
    "        duration (int | float): Duration of the pink noise in seconds.\n",
    "        sample_rate (int, optional): Sampling rate of the audio in Hz. Default is 44100 Hz.\n",
    "        magnitude (float, optional): The peak amplitude of the generated pink noise. Default is 0.5.\n",
    "\n",
    "    Returns:\n",
    "        AudioSegment: The generated pink noise.\n",
    "    \"\"\"\n",
    "    signal = np.random.randn(int(sample_rate * duration))\n",
    "    signal = sp.signal.lfilter(*sp.signal.butter(1, 1/50, btype='low'), signal)\n",
    "    signal = (signal * magnitude * 32767).astype(np.int16)\n",
    "    audio = AudioSegment(\n",
    "        signal.tobytes(),\n",
    "        frame_rate=sample_rate,\n",
    "        sample_width=signal.dtype.itemsize,\n",
    "        channels=1)\n",
    "    return audio\n",
    "\n",
    "generate_pink_noise(10).export('exports/pink_noise.wav', format='wav')"
   ]
  },
  {
   "cell_type": "markdown",
   "metadata": {},
   "source": [
    "<audio controls>\n",
    "  <source src=\"exports/pink_noise.wav\" type=\"audio/wav\">\n",
    "Your browser does not support the audio element, but this sounds like a digital tone at A4, but this time a little buzzier.\n",
    "</audio>"
   ]
  },
  {
   "cell_type": "markdown",
   "metadata": {},
   "source": [
    "#### e) Data Analysis"
   ]
  },
  {
   "cell_type": "markdown",
   "metadata": {},
   "source": [
    "##### (i) Print Aliases"
   ]
  },
  {
   "cell_type": "code",
   "execution_count": 1819,
   "metadata": {},
   "outputs": [],
   "source": [
    "def print_range(column: pd.Series, title: str='') -> None:\n",
    "    \"\"\"Print the range of a column in a DataFrame\n",
    "\n",
    "    Args:\n",
    "        column (pd.Series): The column to be analyzed\n",
    "        title (str, optional): The title of the range. Defaults to ''.\n",
    "    \"\"\"\n",
    "    if title: # If a title is provided, add a space to the end of the title\n",
    "        title += ' '\n",
    "    column = column.astype(float)\n",
    "    print(f\"{title}Range Interval: [{column.min()},{column.max()}]\")\n",
    "    print(f\"{title}Span: {column.max() - column.min()}\")\n",
    "\n",
    "\n",
    "def print_ranges(df: pd.DataFrame) -> None:\n",
    "    \"\"\"Print the ranges of all numeric columns in a DataFrame\n",
    "\n",
    "    Args:\n",
    "        df (pd.DataFrame): The DataFrame to be analyzed\n",
    "    \"\"\"\n",
    "    for column in df.columns:\n",
    "        if df[column].dtype in [np.float64, np.int64]:\n",
    "            print_range(df[column], column)"
   ]
  },
  {
   "cell_type": "markdown",
   "metadata": {},
   "source": [
    "##### (ii) Plots"
   ]
  },
  {
   "cell_type": "code",
   "execution_count": 1820,
   "metadata": {},
   "outputs": [],
   "source": [
    "def plot_histogram(column: pd.Series, title: str='Histogram', bins: int=25) -> None:\n",
    "    \"\"\"Plot a histogram of the values in a column of a pandas DataFrame.\n",
    "    Column must be numeric.\n",
    "\n",
    "    Args:\n",
    "        column (pd.Series): The column to plot.\n",
    "        title (str, optional): The title of the plot. Defaults to 'Histogram'.\n",
    "        bins (int, optional): The number of bins to use in the histogram. Defaults to 10.\n",
    "    \"\"\"\n",
    "    if column.dtype not in [np.float64, np.int64]:\n",
    "        raise ValueError('Column must be numeric')\n",
    "    plt.hist(column, bins=bins)\n",
    "    plt.title(title)\n",
    "    plt.xlabel('Value')\n",
    "    plt.ylabel('Frequency')\n",
    "    plt.show()"
   ]
  },
  {
   "cell_type": "markdown",
   "metadata": {},
   "source": [
    "## B. Dataset Exploration and Enhancement"
   ]
  },
  {
   "cell_type": "markdown",
   "metadata": {},
   "source": [
    "### 1. Initial Dataset Assesment"
   ]
  },
  {
   "cell_type": "markdown",
   "metadata": {},
   "source": [
    "#### a) Downloading and Viewing Primary Dataset\n",
    "The first data source is from a [kaggle competition](https://www.birds.cornell.edu/clementschecklist/introduction/updateindex/october-2023/download/). This dataset provides preorganized bird audio data, structured as `.mp3` files grouped by bird species. Each species is identified by a unique eBird code, a standard maintained by the Cornell Lab of Ornithology.\n",
    "\n",
    "This can also be downloaded by running this code after accepting the terms of the competition on a valid kaggle account:\n",
    "```bash\n",
    "kaggle competitions download -c birdsong-recognition\n",
    "```\n",
    "The dataset directory structure is as follows:\n",
    "```log\n",
    ".\n",
    "├── example_test_audio\n",
    "│  ├── BLKFR-10-CPL_20190611_093000.pt540.mp3\n",
    "│  └── ORANGE-7-CAP_20190606_093000.pt623.mp3\n",
    "├── example_test_audio_metadata.csv\n",
    "├── example_test_audio_summary.csv\n",
    "├── sample_submission.csv\n",
    "├── test.csv\n",
    "├── train.csv\n",
    "└── train_audio\n",
    "   ├── aldfly\n",
    "   │  ├── XC2628.mp3\n",
    "   │  └── ...\n",
    "   ├── ameavo\n",
    "   │  ├── XC99571.mp3\n",
    "   │  └── ...\n",
    "   └── ...\n",
    "```\n",
    "Key components of the dataset:\n",
    " - `train_audio/`: Audio files organized by bird species (eBird codes as folder names).\n",
    " - `train.csv`: Metadata about each audio file, including eBird codes, audio duration, and recording location.\n"
   ]
  },
  {
   "cell_type": "code",
   "execution_count": 1821,
   "metadata": {},
   "outputs": [
    {
     "name": "stdout",
     "output_type": "stream",
     "text": [
      "Index(['rating', 'playback_used', 'ebird_code', 'channels', 'date', 'pitch',\n",
      "       'duration', 'filename', 'speed', 'species', 'number_of_notes', 'title',\n",
      "       'secondary_labels', 'bird_seen', 'sci_name', 'location', 'latitude',\n",
      "       'sampling_rate', 'type', 'elevation', 'description', 'bitrate_of_mp3',\n",
      "       'file_type', 'volume', 'background', 'xc_id', 'url', 'country',\n",
      "       'author', 'primary_label', 'longitude', 'length', 'time', 'recordist',\n",
      "       'license'],\n",
      "      dtype='object')\n"
     ]
    },
    {
     "data": {
      "text/html": [
       "<div>\n",
       "<style scoped>\n",
       "    .dataframe tbody tr th:only-of-type {\n",
       "        vertical-align: middle;\n",
       "    }\n",
       "\n",
       "    .dataframe tbody tr th {\n",
       "        vertical-align: top;\n",
       "    }\n",
       "\n",
       "    .dataframe thead th {\n",
       "        text-align: right;\n",
       "    }\n",
       "</style>\n",
       "<table border=\"1\" class=\"dataframe\">\n",
       "  <thead>\n",
       "    <tr style=\"text-align: right;\">\n",
       "      <th></th>\n",
       "      <th>rating</th>\n",
       "      <th>playback_used</th>\n",
       "      <th>ebird_code</th>\n",
       "      <th>channels</th>\n",
       "      <th>date</th>\n",
       "      <th>pitch</th>\n",
       "      <th>duration</th>\n",
       "      <th>filename</th>\n",
       "      <th>speed</th>\n",
       "      <th>species</th>\n",
       "      <th>...</th>\n",
       "      <th>xc_id</th>\n",
       "      <th>url</th>\n",
       "      <th>country</th>\n",
       "      <th>author</th>\n",
       "      <th>primary_label</th>\n",
       "      <th>longitude</th>\n",
       "      <th>length</th>\n",
       "      <th>time</th>\n",
       "      <th>recordist</th>\n",
       "      <th>license</th>\n",
       "    </tr>\n",
       "  </thead>\n",
       "  <tbody>\n",
       "    <tr>\n",
       "      <th>0</th>\n",
       "      <td>3.5</td>\n",
       "      <td>no</td>\n",
       "      <td>aldfly</td>\n",
       "      <td>1 (mono)</td>\n",
       "      <td>2013-05-25</td>\n",
       "      <td>Not specified</td>\n",
       "      <td>25</td>\n",
       "      <td>XC134874.mp3</td>\n",
       "      <td>Not specified</td>\n",
       "      <td>Alder Flycatcher</td>\n",
       "      <td>...</td>\n",
       "      <td>134874</td>\n",
       "      <td>https://www.xeno-canto.org/134874</td>\n",
       "      <td>United States</td>\n",
       "      <td>Jonathon Jongsma</td>\n",
       "      <td>Empidonax alnorum_Alder Flycatcher</td>\n",
       "      <td>-92.962</td>\n",
       "      <td>Not specified</td>\n",
       "      <td>8:00</td>\n",
       "      <td>Jonathon Jongsma</td>\n",
       "      <td>Creative Commons Attribution-ShareAlike 3.0</td>\n",
       "    </tr>\n",
       "    <tr>\n",
       "      <th>1</th>\n",
       "      <td>4.0</td>\n",
       "      <td>no</td>\n",
       "      <td>aldfly</td>\n",
       "      <td>2 (stereo)</td>\n",
       "      <td>2013-05-27</td>\n",
       "      <td>both</td>\n",
       "      <td>36</td>\n",
       "      <td>XC135454.mp3</td>\n",
       "      <td>both</td>\n",
       "      <td>Alder Flycatcher</td>\n",
       "      <td>...</td>\n",
       "      <td>135454</td>\n",
       "      <td>https://www.xeno-canto.org/135454</td>\n",
       "      <td>United States</td>\n",
       "      <td>Mike Nelson</td>\n",
       "      <td>Empidonax alnorum_Alder Flycatcher</td>\n",
       "      <td>-82.1106</td>\n",
       "      <td>0-3(s)</td>\n",
       "      <td>08:30</td>\n",
       "      <td>Mike Nelson</td>\n",
       "      <td>Creative Commons Attribution-NonCommercial-Sha...</td>\n",
       "    </tr>\n",
       "    <tr>\n",
       "      <th>2</th>\n",
       "      <td>4.0</td>\n",
       "      <td>no</td>\n",
       "      <td>aldfly</td>\n",
       "      <td>2 (stereo)</td>\n",
       "      <td>2013-05-27</td>\n",
       "      <td>both</td>\n",
       "      <td>39</td>\n",
       "      <td>XC135455.mp3</td>\n",
       "      <td>both</td>\n",
       "      <td>Alder Flycatcher</td>\n",
       "      <td>...</td>\n",
       "      <td>135455</td>\n",
       "      <td>https://www.xeno-canto.org/135455</td>\n",
       "      <td>United States</td>\n",
       "      <td>Mike Nelson</td>\n",
       "      <td>Empidonax alnorum_Alder Flycatcher</td>\n",
       "      <td>-82.1106</td>\n",
       "      <td>0-3(s)</td>\n",
       "      <td>08:30</td>\n",
       "      <td>Mike Nelson</td>\n",
       "      <td>Creative Commons Attribution-NonCommercial-Sha...</td>\n",
       "    </tr>\n",
       "    <tr>\n",
       "      <th>3</th>\n",
       "      <td>3.5</td>\n",
       "      <td>no</td>\n",
       "      <td>aldfly</td>\n",
       "      <td>2 (stereo)</td>\n",
       "      <td>2013-05-27</td>\n",
       "      <td>both</td>\n",
       "      <td>33</td>\n",
       "      <td>XC135456.mp3</td>\n",
       "      <td>both</td>\n",
       "      <td>Alder Flycatcher</td>\n",
       "      <td>...</td>\n",
       "      <td>135456</td>\n",
       "      <td>https://www.xeno-canto.org/135456</td>\n",
       "      <td>United States</td>\n",
       "      <td>Mike Nelson</td>\n",
       "      <td>Empidonax alnorum_Alder Flycatcher</td>\n",
       "      <td>-82.1106</td>\n",
       "      <td>0-3(s)</td>\n",
       "      <td>08:30</td>\n",
       "      <td>Mike Nelson</td>\n",
       "      <td>Creative Commons Attribution-NonCommercial-Sha...</td>\n",
       "    </tr>\n",
       "    <tr>\n",
       "      <th>4</th>\n",
       "      <td>4.0</td>\n",
       "      <td>no</td>\n",
       "      <td>aldfly</td>\n",
       "      <td>2 (stereo)</td>\n",
       "      <td>2013-05-27</td>\n",
       "      <td>both</td>\n",
       "      <td>36</td>\n",
       "      <td>XC135457.mp3</td>\n",
       "      <td>level</td>\n",
       "      <td>Alder Flycatcher</td>\n",
       "      <td>...</td>\n",
       "      <td>135457</td>\n",
       "      <td>https://www.xeno-canto.org/135457</td>\n",
       "      <td>United States</td>\n",
       "      <td>Mike Nelson</td>\n",
       "      <td>Empidonax alnorum_Alder Flycatcher</td>\n",
       "      <td>-82.1106</td>\n",
       "      <td>0-3(s)</td>\n",
       "      <td>08:30</td>\n",
       "      <td>Mike Nelson</td>\n",
       "      <td>Creative Commons Attribution-NonCommercial-Sha...</td>\n",
       "    </tr>\n",
       "  </tbody>\n",
       "</table>\n",
       "<p>5 rows × 35 columns</p>\n",
       "</div>"
      ],
      "text/plain": [
       "   rating playback_used ebird_code    channels        date          pitch  \\\n",
       "0     3.5            no     aldfly    1 (mono)  2013-05-25  Not specified   \n",
       "1     4.0            no     aldfly  2 (stereo)  2013-05-27           both   \n",
       "2     4.0            no     aldfly  2 (stereo)  2013-05-27           both   \n",
       "3     3.5            no     aldfly  2 (stereo)  2013-05-27           both   \n",
       "4     4.0            no     aldfly  2 (stereo)  2013-05-27           both   \n",
       "\n",
       "   duration      filename          speed           species  ...   xc_id  \\\n",
       "0        25  XC134874.mp3  Not specified  Alder Flycatcher  ...  134874   \n",
       "1        36  XC135454.mp3           both  Alder Flycatcher  ...  135454   \n",
       "2        39  XC135455.mp3           both  Alder Flycatcher  ...  135455   \n",
       "3        33  XC135456.mp3           both  Alder Flycatcher  ...  135456   \n",
       "4        36  XC135457.mp3          level  Alder Flycatcher  ...  135457   \n",
       "\n",
       "                                 url        country            author  \\\n",
       "0  https://www.xeno-canto.org/134874  United States  Jonathon Jongsma   \n",
       "1  https://www.xeno-canto.org/135454  United States       Mike Nelson   \n",
       "2  https://www.xeno-canto.org/135455  United States       Mike Nelson   \n",
       "3  https://www.xeno-canto.org/135456  United States       Mike Nelson   \n",
       "4  https://www.xeno-canto.org/135457  United States       Mike Nelson   \n",
       "\n",
       "                        primary_label longitude         length   time  \\\n",
       "0  Empidonax alnorum_Alder Flycatcher   -92.962  Not specified   8:00   \n",
       "1  Empidonax alnorum_Alder Flycatcher  -82.1106         0-3(s)  08:30   \n",
       "2  Empidonax alnorum_Alder Flycatcher  -82.1106         0-3(s)  08:30   \n",
       "3  Empidonax alnorum_Alder Flycatcher  -82.1106         0-3(s)  08:30   \n",
       "4  Empidonax alnorum_Alder Flycatcher  -82.1106         0-3(s)  08:30   \n",
       "\n",
       "          recordist                                            license  \n",
       "0  Jonathon Jongsma        Creative Commons Attribution-ShareAlike 3.0  \n",
       "1       Mike Nelson  Creative Commons Attribution-NonCommercial-Sha...  \n",
       "2       Mike Nelson  Creative Commons Attribution-NonCommercial-Sha...  \n",
       "3       Mike Nelson  Creative Commons Attribution-NonCommercial-Sha...  \n",
       "4       Mike Nelson  Creative Commons Attribution-NonCommercial-Sha...  \n",
       "\n",
       "[5 rows x 35 columns]"
      ]
     },
     "execution_count": 1821,
     "metadata": {},
     "output_type": "execute_result"
    }
   ],
   "source": [
    "df = pd.read_csv('data/birdsong-recognition/train.csv')\n",
    "print(df.columns)\n",
    "df.head()"
   ]
  },
  {
   "cell_type": "markdown",
   "metadata": {},
   "source": [
    "The dataset lacks full taxonomy information, which limits the ability to classify birds at higher taxonomic levels (e.g., family or order) which may be easier targets than individual species."
   ]
  },
  {
   "cell_type": "markdown",
   "metadata": {},
   "source": [
    "### 2. Acquisition and Integration of Additional Data"
   ]
  },
  {
   "cell_type": "markdown",
   "metadata": {},
   "source": [
    "#### a) Acquiring Secondary Dataset and Verifying Dataset Compatibility\n",
    "To supplement the primary dataset, a taxonomy dataset was downloaded from the [Cornell Lab of Ornithology](https://www.birds.cornell.edu/clementschecklist/introduction/updateindex/october-2023/download/). This dataset includes hierarchical taxonomic information for each bird species, such as family, order, and genus, as well as a human understandable species group."
   ]
  },
  {
   "cell_type": "code",
   "execution_count": 1822,
   "metadata": {},
   "outputs": [
    {
     "name": "stdout",
     "output_type": "stream",
     "text": [
      "Index(['TAXON_ORDER', 'CATEGORY', 'SPECIES_CODE', 'TAXON_CONCEPT_ID',\n",
      "       'PRIMARY_COM_NAME', 'SCI_NAME', 'ORDER', 'FAMILY', 'SPECIES_GROUP',\n",
      "       'REPORT_AS'],\n",
      "      dtype='object')\n"
     ]
    },
    {
     "data": {
      "text/html": [
       "<div>\n",
       "<style scoped>\n",
       "    .dataframe tbody tr th:only-of-type {\n",
       "        vertical-align: middle;\n",
       "    }\n",
       "\n",
       "    .dataframe tbody tr th {\n",
       "        vertical-align: top;\n",
       "    }\n",
       "\n",
       "    .dataframe thead th {\n",
       "        text-align: right;\n",
       "    }\n",
       "</style>\n",
       "<table border=\"1\" class=\"dataframe\">\n",
       "  <thead>\n",
       "    <tr style=\"text-align: right;\">\n",
       "      <th></th>\n",
       "      <th>TAXON_ORDER</th>\n",
       "      <th>CATEGORY</th>\n",
       "      <th>SPECIES_CODE</th>\n",
       "      <th>TAXON_CONCEPT_ID</th>\n",
       "      <th>PRIMARY_COM_NAME</th>\n",
       "      <th>SCI_NAME</th>\n",
       "      <th>ORDER</th>\n",
       "      <th>FAMILY</th>\n",
       "      <th>SPECIES_GROUP</th>\n",
       "      <th>REPORT_AS</th>\n",
       "    </tr>\n",
       "  </thead>\n",
       "  <tbody>\n",
       "    <tr>\n",
       "      <th>0</th>\n",
       "      <td>2</td>\n",
       "      <td>species</td>\n",
       "      <td>ostric2</td>\n",
       "      <td>avibase-2247CB05</td>\n",
       "      <td>Common Ostrich</td>\n",
       "      <td>Struthio camelus</td>\n",
       "      <td>Struthioniformes</td>\n",
       "      <td>Struthionidae (Ostriches)</td>\n",
       "      <td>Ostriches</td>\n",
       "      <td>NaN</td>\n",
       "    </tr>\n",
       "    <tr>\n",
       "      <th>1</th>\n",
       "      <td>7</td>\n",
       "      <td>species</td>\n",
       "      <td>ostric3</td>\n",
       "      <td>avibase-40329BB6</td>\n",
       "      <td>Somali Ostrich</td>\n",
       "      <td>Struthio molybdophanes</td>\n",
       "      <td>Struthioniformes</td>\n",
       "      <td>Struthionidae (Ostriches)</td>\n",
       "      <td>Ostriches</td>\n",
       "      <td>NaN</td>\n",
       "    </tr>\n",
       "    <tr>\n",
       "      <th>2</th>\n",
       "      <td>8</td>\n",
       "      <td>slash</td>\n",
       "      <td>y00934</td>\n",
       "      <td>avibase-5D14080C</td>\n",
       "      <td>Common/Somali Ostrich</td>\n",
       "      <td>Struthio camelus/molybdophanes</td>\n",
       "      <td>Struthioniformes</td>\n",
       "      <td>Struthionidae (Ostriches)</td>\n",
       "      <td>Ostriches</td>\n",
       "      <td>NaN</td>\n",
       "    </tr>\n",
       "    <tr>\n",
       "      <th>3</th>\n",
       "      <td>10</td>\n",
       "      <td>species</td>\n",
       "      <td>grerhe1</td>\n",
       "      <td>avibase-00986B24</td>\n",
       "      <td>Greater Rhea</td>\n",
       "      <td>Rhea americana</td>\n",
       "      <td>Rheiformes</td>\n",
       "      <td>Rheidae (Rheas)</td>\n",
       "      <td>Rheas</td>\n",
       "      <td>NaN</td>\n",
       "    </tr>\n",
       "    <tr>\n",
       "      <th>4</th>\n",
       "      <td>16</td>\n",
       "      <td>species</td>\n",
       "      <td>lesrhe2</td>\n",
       "      <td>avibase-590ADF92</td>\n",
       "      <td>Lesser Rhea</td>\n",
       "      <td>Rhea pennata</td>\n",
       "      <td>Rheiformes</td>\n",
       "      <td>Rheidae (Rheas)</td>\n",
       "      <td>Rheas</td>\n",
       "      <td>NaN</td>\n",
       "    </tr>\n",
       "  </tbody>\n",
       "</table>\n",
       "</div>"
      ],
      "text/plain": [
       "   TAXON_ORDER CATEGORY SPECIES_CODE  TAXON_CONCEPT_ID       PRIMARY_COM_NAME  \\\n",
       "0            2  species      ostric2  avibase-2247CB05         Common Ostrich   \n",
       "1            7  species      ostric3  avibase-40329BB6         Somali Ostrich   \n",
       "2            8    slash       y00934  avibase-5D14080C  Common/Somali Ostrich   \n",
       "3           10  species      grerhe1  avibase-00986B24           Greater Rhea   \n",
       "4           16  species      lesrhe2  avibase-590ADF92            Lesser Rhea   \n",
       "\n",
       "                         SCI_NAME             ORDER  \\\n",
       "0                Struthio camelus  Struthioniformes   \n",
       "1          Struthio molybdophanes  Struthioniformes   \n",
       "2  Struthio camelus/molybdophanes  Struthioniformes   \n",
       "3                  Rhea americana        Rheiformes   \n",
       "4                    Rhea pennata        Rheiformes   \n",
       "\n",
       "                      FAMILY SPECIES_GROUP REPORT_AS  \n",
       "0  Struthionidae (Ostriches)     Ostriches       NaN  \n",
       "1  Struthionidae (Ostriches)     Ostriches       NaN  \n",
       "2  Struthionidae (Ostriches)     Ostriches       NaN  \n",
       "3            Rheidae (Rheas)         Rheas       NaN  \n",
       "4            Rheidae (Rheas)         Rheas       NaN  "
      ]
     },
     "execution_count": 1822,
     "metadata": {},
     "output_type": "execute_result"
    }
   ],
   "source": [
    "taxonomy = pd.read_csv('data/ebird_taxonomy_v2023.csv')\n",
    "print(taxonomy.columns)\n",
    "taxonomy.head()"
   ]
  },
  {
   "cell_type": "markdown",
   "metadata": {},
   "source": [
    "To ensure compatibility between datasets:\n",
    " - **Ensuring uniqueness**: Verified that the SPECIES_CODE column in the taxonomy dataset contained unique values"
   ]
  },
  {
   "cell_type": "code",
   "execution_count": 1823,
   "metadata": {},
   "outputs": [
    {
     "name": "stdout",
     "output_type": "stream",
     "text": [
      "All values in SPECIES_CODE are unique: True\n"
     ]
    }
   ],
   "source": [
    "total_species_codes = len(taxonomy['SPECIES_CODE'])\n",
    "unique_species_codes = taxonomy['SPECIES_CODE'].nunique()\n",
    "print('All values in SPECIES_CODE are unique:', total_species_codes == unique_species_codes)\n",
    "del total_species_codes, unique_species_codes"
   ]
  },
  {
   "cell_type": "markdown",
   "metadata": {},
   "source": [
    " - **Ensure consistent use of ebird code**: Verified that where the `ebird_code` matches between the datasets, the species also matches.\n",
    "\n",
    "###### (This is happening by merging the datasets because it is considerably faster than iterating between the two)"
   ]
  },
  {
   "cell_type": "code",
   "execution_count": 1824,
   "metadata": {},
   "outputs": [
    {
     "name": "stdout",
     "output_type": "stream",
     "text": [
      "doccor: Phalacrocorax auritus != Nannopterum auritum\n",
      "evegro: Hesperiphona vespertina != Coccothraustes vespertinus\n",
      "haiwoo: Leuconotopicus villosus != Dryobates villosus\n",
      "pasfly: Empidonax difficilis != Empidonax difficilis [difficilis Group]\n",
      "ruckin: Regulus calendula != Corthylio calendula\n"
     ]
    }
   ],
   "source": [
    "# Merge the taxonomy data with the training data\n",
    "merged_df = df.merge(taxonomy, left_on='ebird_code', right_on='SPECIES_CODE', how='left', indicator=True)\n",
    "# Get the ebird_codes that did not merge or have a scientific name mismatch between the two datasets\n",
    "bad_codes = merged_df[(merged_df['_merge'] == 'left_only') | (merged_df['sci_name'] != merged_df['SCI_NAME'])]['ebird_code'].unique()\n",
    "\n",
    "# Iterate through the bad codes and print out the scientific names that do not match\n",
    "for code in bad_codes:\n",
    "    if code not in taxonomy['SPECIES_CODE'].values:\n",
    "        print(code, \"not found in taxonomy\")\n",
    "    else:\n",
    "        birdsong_df_species = merged_df[merged_df['ebird_code'] == code]['sci_name'].unique()\n",
    "        taxonomy_species = taxonomy[taxonomy['SPECIES_CODE'] == code]['SCI_NAME'].unique()\n",
    "        if len(birdsong_df_species) == 1 and len(taxonomy_species) == 1:\n",
    "            print(f'{code}: {birdsong_df_species[0]} != {taxonomy_species[0]}')\n",
    "        if len(birdsong_df_species) == 0:\n",
    "            print(f'{code}: No scientific name in training data')\n",
    "        if len(taxonomy_species) == 0:\n",
    "            print(f'{code}: No scientific name in taxonomy data')\n",
    "        if len(birdsong_df_species) > 1:\n",
    "            print(f'{code}: Multiple scientific names in training data')\n",
    "        if len(taxonomy_species) > 1:\n",
    "            print(f'{code}: Multiple scientific names in taxonomy data')\n",
    "\n",
    "del bad_codes"
   ]
  },
  {
   "cell_type": "markdown",
   "metadata": {},
   "source": [
    "Upon manual review, each one of these discrepancies are due to taxonomic synonyms or changed in convention. The taxonomy dataset is the more up to date data set and we will use the information listed in that as our targets."
   ]
  },
  {
   "cell_type": "markdown",
   "metadata": {},
   "source": [
    "#### b) Merging The Datasets\n",
    "With compatibility established, the taxonomy dataset was integrated into the primary dataset. The original species information from the primary dataset was replaced with the taxonomy dataset’s more comprehensive information. Key benefits of this approach:\n",
    "\n",
    "Access to taxonomic hierarchies (e.g., order, family, genus) for flexible classification.\n",
    "Improved consistency and expanded metadata for future feature engineering."
   ]
  },
  {
   "cell_type": "code",
   "execution_count": 1825,
   "metadata": {},
   "outputs": [
    {
     "name": "stdout",
     "output_type": "stream",
     "text": [
      "Index(['rating', 'playback_used', 'ebird_code', 'channels', 'date', 'pitch',\n",
      "       'duration', 'filename', 'speed', 'species', 'number_of_notes', 'title',\n",
      "       'secondary_labels', 'bird_seen', 'sci_name', 'location', 'latitude',\n",
      "       'sampling_rate', 'type', 'elevation', 'description', 'bitrate_of_mp3',\n",
      "       'file_type', 'volume', 'background', 'xc_id', 'url', 'country',\n",
      "       'author', 'primary_label', 'longitude', 'length', 'time', 'recordist',\n",
      "       'license', 'TAXON_ORDER', 'CATEGORY', 'SPECIES_CODE',\n",
      "       'TAXON_CONCEPT_ID', 'PRIMARY_COM_NAME', 'SCI_NAME', 'ORDER', 'FAMILY',\n",
      "       'SPECIES_GROUP', 'REPORT_AS', '_merge'],\n",
      "      dtype='object')\n"
     ]
    }
   ],
   "source": [
    "df = merged_df\n",
    "del merged_df\n",
    "print(df.columns)"
   ]
  },
  {
   "cell_type": "markdown",
   "metadata": {},
   "source": [
    "## C. Data Cleaning and Preprocessing"
   ]
  },
  {
   "cell_type": "markdown",
   "metadata": {},
   "source": [
    "### 1. Data Cleaning"
   ]
  },
  {
   "cell_type": "markdown",
   "metadata": {},
   "source": [
    "#### a) Removing Unnecessary Columns and Renaming Existing Columns"
   ]
  },
  {
   "cell_type": "code",
   "execution_count": 1826,
   "metadata": {},
   "outputs": [
    {
     "name": "stdout",
     "output_type": "stream",
     "text": [
      "Index(['rating', 'ebird_code', 'channels', 'date', 'duration', 'filename',\n",
      "       'latitude', 'sampling_rate', 'type', 'elevation', 'file_type',\n",
      "       'longitude', 'time', 'common_name', 'sci_name', 'order', 'family',\n",
      "       'species_group'],\n",
      "      dtype='object')\n",
      "Memory Usage: 20.00 MB\n"
     ]
    }
   ],
   "source": [
    "df = df.drop(columns=['_merge', 'playback_used', 'pitch', 'speed',\n",
    "                      'species', 'number_of_notes', 'title', 'secondary_labels',\n",
    "                      'bird_seen', 'sci_name', 'location', 'description',\n",
    "                      'bitrate_of_mp3', 'volume', 'background', 'xc_id',\n",
    "                      'url', 'country', 'author', 'primary_label',\n",
    "                      'length', 'recordist', 'license', 'TAXON_ORDER',\n",
    "                      'CATEGORY', 'SPECIES_CODE', 'TAXON_CONCEPT_ID', 'REPORT_AS'])\n",
    "df.rename(columns={'PRIMARY_COM_NAME': 'common_name', \n",
    "                   'SCI_NAME': 'sci_name', \n",
    "                   'ORDER': 'order', \n",
    "                   'FAMILY': 'family', \n",
    "                   'SPECIES_GROUP': 'species_group'}, inplace=True)\n",
    "print(df.columns)\n",
    "print_memory_usage(df)\n",
    "del taxonomy"
   ]
  },
  {
   "cell_type": "markdown",
   "metadata": {},
   "source": [
    "#### b) Removing Problematic Sample Rates"
   ]
  },
  {
   "cell_type": "code",
   "execution_count": 1827,
   "metadata": {},
   "outputs": [
    {
     "name": "stdout",
     "output_type": "stream",
     "text": [
      "sampling_rate\n",
      "44100 (Hz)    12693\n",
      "48000 (Hz)     8373\n",
      "22050 (Hz)      123\n",
      "32000 (Hz)       93\n",
      "24000 (Hz)       54\n",
      "16000 (Hz)       34\n",
      "11025 (Hz)        3\n",
      "8000 (Hz)         2\n",
      "Name: count, dtype: int64\n"
     ]
    }
   ],
   "source": [
    "print(df['sampling_rate'].value_counts())"
   ]
  },
  {
   "cell_type": "markdown",
   "metadata": {},
   "source": [
    "This is a surprising spread of sample rates. While 44.1 kHz is standard for CDs and audio recordings, and 48 kHz is standard for video, the presence of less common rates like 32 kHz, 24 kHz, and below is unexpected.\n",
    "\n",
    "##### (i) The Nyquist Frequency\n",
    "The Nyquist Frequency is equal to half of the sampling rate. It represents the highest frequency that can be accurately captured and reproduced in a signal. When analizing the signal based on frequency, we will not capture any values above this frequency. This would normally not be a problem for traditional sample rates like 44.1 kHz and above, but some of these abnormal sample rates will not produce a full spectrum of frequencies for us to measure.\n",
    "\n",
    "##### (ii) Analysis of Existing Sample Rates\n",
    " - **Traditional Sample Rates (44.1 kHz and 48 kHz)**:\n",
    "These rates provide ample frequency data, with Nyquist frequencies of 22.05 kHz and 24 kHz, respectively. They are well-suited for our purposes. It is unlikely any information above 20 kHz will be used in the input of any models.\n",
    "\n",
    " - **Usable Non-Traditional Sample Rates (32 kHz)**:\n",
    "With a Nyquist frequency of 16 kHz, these files likely retain enough information for bird call identification. Many files encoded at higher sample rates may already have frequencies above 16 kHz removed due to compression (e.g., MP3) or audio processing decisions, so the lack of information above 16 kHz is not overly hurtful to the dataset. These files will be retained, though gaps in frequency information will be filled with a placeholder representative of silence.\n",
    "\n",
    " - **Lower Sample Rates (22.05 kHz and 24 kHz)**:\n",
    "These rates produce Nyquist frequencies closer to 10-12 kHz, which may contain some bird call information but lack higher-frequency data. Training on these files could potentially confuse the model due to incomplete spectral information.\n",
    "\n",
    " - **Very Low Sample Rates (Below 20 kHz)**:\n",
    "Sample rates like 16 kHz, 11.025 kHz, and 8 kHz are unsuitable for our task. They miss critical higher-frequency data essential for accurate bird call recognition, and it is unlikely these files sound normal even to the human ear.\n",
    "\n"
   ]
  },
  {
   "cell_type": "markdown",
   "metadata": {},
   "source": [
    "##### (iii) Removal of Files with Unwanted Sample Rates"
   ]
  },
  {
   "cell_type": "markdown",
   "metadata": {},
   "source": [
    "Any file with a sample rate below 32 kHz will be removed."
   ]
  },
  {
   "cell_type": "code",
   "execution_count": 1828,
   "metadata": {},
   "outputs": [
    {
     "name": "stdout",
     "output_type": "stream",
     "text": [
      "-------------------------------------------- 21375 Files --------------------------------------------\n",
      "sampling_rate\n",
      "44100    12693\n",
      "48000     8373\n",
      "22050      123\n",
      "32000       93\n",
      "24000       54\n",
      "16000       34\n",
      "11025        3\n",
      "8000         2\n",
      "Name: count, dtype: int64\n"
     ]
    }
   ],
   "source": [
    "# Convert the sampling rate to an integer value\n",
    "df['sampling_rate'] = df['sampling_rate'].str[:-5]\n",
    "df['sampling_rate'] = df['sampling_rate'].astype(int)\n",
    "print_boundry(f'{len(df)} Files')\n",
    "print(df['sampling_rate'].value_counts())"
   ]
  },
  {
   "cell_type": "code",
   "execution_count": 1829,
   "metadata": {},
   "outputs": [
    {
     "name": "stdout",
     "output_type": "stream",
     "text": [
      "-------------------------------------------- 21159 Files --------------------------------------------\n",
      "sampling_rate\n",
      "44100    12693\n",
      "48000     8373\n",
      "32000       93\n",
      "Name: count, dtype: int64\n"
     ]
    }
   ],
   "source": [
    "# Remove the files with sample rates less than 32000\n",
    "df = df[df['sampling_rate'] >= 32000]\n",
    "print_boundry(f'{len(df)} Files')\n",
    "print(df['sampling_rate'].value_counts())"
   ]
  },
  {
   "cell_type": "markdown",
   "metadata": {},
   "source": [
    "#### c) Audio Metadata Verification\n",
    "This section of code adds a new column, `array_size`, to the dataset, which records the size of each audio file's signal array in bytes. It also recalculates and verifies key metadata, such as duration, sample rate, and number of channels, to ensure accuracy. Since processing all the audio files takes significant time, the results are saved into a CSV file for future use. Before performing the calulactions, the code checks if this CSV already exists to skip reprocessing previously handled data."
   ]
  },
  {
   "cell_type": "code",
   "execution_count": 1830,
   "metadata": {},
   "outputs": [],
   "source": [
    "# Ensure the existence of the export directory\n",
    "if not os.path.exists('exports'):\n",
    "    os.makedirs('exports')"
   ]
  },
  {
   "cell_type": "code",
   "execution_count": 1831,
   "metadata": {},
   "outputs": [],
   "source": [
    "# Initialize the State Variables\n",
    "display_handler = None # Display handler for the progress bar\n",
    "total_count = 0 # Total number of audio files processed (each row is one audio file)\n",
    "bird_count = 0 # Number of species processed (each species has multiple audio files)\n",
    "\n",
    "# Create a new dataframe with all the columns from the original dataframe\n",
    "new_df = pd.DataFrame(columns=df.columns) # Create a new dataframe with the same columns as the original dataframe\n",
    "new_df['array_size'] = 0 # Add the column array_size to the dataframe\n",
    "\n",
    "# Search for cached result from previous run\n",
    "old_records = None\n",
    "if os.path.exists('exports/audio_metadata.csv'):\n",
    "    old_records = pd.read_csv('exports/audio_metadata.csv')"
   ]
  },
  {
   "cell_type": "code",
   "execution_count": 1832,
   "metadata": {},
   "outputs": [
    {
     "name": "stdout",
     "output_type": "stream",
     "text": [
      "------------------------------------ Begining to load audio files ------------------------------------\n",
      "---------------------------------- Finished Validating Audio Files ----------------------------------\n",
      "Total Files: 21158\n",
      "Total Time: 00:00:00\n",
      "------------------------------------------- New DataFrame -------------------------------------------\n",
      "Total Memory of All Audio Signal Arrays: 139.71 GB\n",
      "Index(['rating', 'ebird_code', 'channels', 'date', 'duration', 'filename',\n",
      "       'latitude', 'sampling_rate', 'type', 'elevation', 'file_type',\n",
      "       'longitude', 'time', 'common_name', 'sci_name', 'order', 'family',\n",
      "       'species_group', 'array_size'],\n",
      "      dtype='object')\n",
      "Memory Usage: 18.83 MB\n"
     ]
    },
    {
     "data": {
      "text/html": [
       "<div>\n",
       "<style scoped>\n",
       "    .dataframe tbody tr th:only-of-type {\n",
       "        vertical-align: middle;\n",
       "    }\n",
       "\n",
       "    .dataframe tbody tr th {\n",
       "        vertical-align: top;\n",
       "    }\n",
       "\n",
       "    .dataframe thead th {\n",
       "        text-align: right;\n",
       "    }\n",
       "</style>\n",
       "<table border=\"1\" class=\"dataframe\">\n",
       "  <thead>\n",
       "    <tr style=\"text-align: right;\">\n",
       "      <th></th>\n",
       "      <th>rating</th>\n",
       "      <th>ebird_code</th>\n",
       "      <th>channels</th>\n",
       "      <th>date</th>\n",
       "      <th>duration</th>\n",
       "      <th>filename</th>\n",
       "      <th>latitude</th>\n",
       "      <th>sampling_rate</th>\n",
       "      <th>type</th>\n",
       "      <th>elevation</th>\n",
       "      <th>file_type</th>\n",
       "      <th>longitude</th>\n",
       "      <th>time</th>\n",
       "      <th>common_name</th>\n",
       "      <th>sci_name</th>\n",
       "      <th>order</th>\n",
       "      <th>family</th>\n",
       "      <th>species_group</th>\n",
       "      <th>array_size</th>\n",
       "    </tr>\n",
       "  </thead>\n",
       "  <tbody>\n",
       "    <tr>\n",
       "      <th>0</th>\n",
       "      <td>3.5</td>\n",
       "      <td>aldfly</td>\n",
       "      <td>1</td>\n",
       "      <td>2013-05-25</td>\n",
       "      <td>25.488</td>\n",
       "      <td>data/birdsong-recognition/train_audio/aldfly/X...</td>\n",
       "      <td>44.793</td>\n",
       "      <td>48000</td>\n",
       "      <td>call</td>\n",
       "      <td>220 m</td>\n",
       "      <td>mp3</td>\n",
       "      <td>-92.962</td>\n",
       "      <td>8:00</td>\n",
       "      <td>Alder Flycatcher</td>\n",
       "      <td>Empidonax alnorum</td>\n",
       "      <td>Passeriformes</td>\n",
       "      <td>Tyrannidae (Tyrant Flycatchers)</td>\n",
       "      <td>Tyrant Flycatchers: Pewees, Kingbirds, and Allies</td>\n",
       "      <td>2446848</td>\n",
       "    </tr>\n",
       "    <tr>\n",
       "      <th>1</th>\n",
       "      <td>4.0</td>\n",
       "      <td>aldfly</td>\n",
       "      <td>2</td>\n",
       "      <td>2013-05-27</td>\n",
       "      <td>36.310</td>\n",
       "      <td>data/birdsong-recognition/train_audio/aldfly/X...</td>\n",
       "      <td>36.1065</td>\n",
       "      <td>44100</td>\n",
       "      <td>call, song</td>\n",
       "      <td>1700 m</td>\n",
       "      <td>mp3</td>\n",
       "      <td>-82.1106</td>\n",
       "      <td>08:30</td>\n",
       "      <td>Alder Flycatcher</td>\n",
       "      <td>Empidonax alnorum</td>\n",
       "      <td>Passeriformes</td>\n",
       "      <td>Tyrannidae (Tyrant Flycatchers)</td>\n",
       "      <td>Tyrant Flycatchers: Pewees, Kingbirds, and Allies</td>\n",
       "      <td>6405120</td>\n",
       "    </tr>\n",
       "    <tr>\n",
       "      <th>2</th>\n",
       "      <td>4.0</td>\n",
       "      <td>aldfly</td>\n",
       "      <td>2</td>\n",
       "      <td>2013-05-27</td>\n",
       "      <td>39.236</td>\n",
       "      <td>data/birdsong-recognition/train_audio/aldfly/X...</td>\n",
       "      <td>36.1065</td>\n",
       "      <td>44100</td>\n",
       "      <td>call, song</td>\n",
       "      <td>1700 m</td>\n",
       "      <td>mp3</td>\n",
       "      <td>-82.1106</td>\n",
       "      <td>08:30</td>\n",
       "      <td>Alder Flycatcher</td>\n",
       "      <td>Empidonax alnorum</td>\n",
       "      <td>Passeriformes</td>\n",
       "      <td>Tyrannidae (Tyrant Flycatchers)</td>\n",
       "      <td>Tyrant Flycatchers: Pewees, Kingbirds, and Allies</td>\n",
       "      <td>6921216</td>\n",
       "    </tr>\n",
       "    <tr>\n",
       "      <th>3</th>\n",
       "      <td>3.5</td>\n",
       "      <td>aldfly</td>\n",
       "      <td>2</td>\n",
       "      <td>2013-05-27</td>\n",
       "      <td>33.593</td>\n",
       "      <td>data/birdsong-recognition/train_audio/aldfly/X...</td>\n",
       "      <td>36.1065</td>\n",
       "      <td>44100</td>\n",
       "      <td>call, song</td>\n",
       "      <td>1700 m</td>\n",
       "      <td>mp3</td>\n",
       "      <td>-82.1106</td>\n",
       "      <td>08:30</td>\n",
       "      <td>Alder Flycatcher</td>\n",
       "      <td>Empidonax alnorum</td>\n",
       "      <td>Passeriformes</td>\n",
       "      <td>Tyrannidae (Tyrant Flycatchers)</td>\n",
       "      <td>Tyrant Flycatchers: Pewees, Kingbirds, and Allies</td>\n",
       "      <td>5925888</td>\n",
       "    </tr>\n",
       "    <tr>\n",
       "      <th>4</th>\n",
       "      <td>4.0</td>\n",
       "      <td>aldfly</td>\n",
       "      <td>2</td>\n",
       "      <td>2013-05-27</td>\n",
       "      <td>36.023</td>\n",
       "      <td>data/birdsong-recognition/train_audio/aldfly/X...</td>\n",
       "      <td>36.1065</td>\n",
       "      <td>44100</td>\n",
       "      <td>call, song</td>\n",
       "      <td>1700 m</td>\n",
       "      <td>mp3</td>\n",
       "      <td>-82.1106</td>\n",
       "      <td>08:30</td>\n",
       "      <td>Alder Flycatcher</td>\n",
       "      <td>Empidonax alnorum</td>\n",
       "      <td>Passeriformes</td>\n",
       "      <td>Tyrannidae (Tyrant Flycatchers)</td>\n",
       "      <td>Tyrant Flycatchers: Pewees, Kingbirds, and Allies</td>\n",
       "      <td>6354432</td>\n",
       "    </tr>\n",
       "  </tbody>\n",
       "</table>\n",
       "</div>"
      ],
      "text/plain": [
       "   rating ebird_code  channels        date  duration  \\\n",
       "0     3.5     aldfly         1  2013-05-25    25.488   \n",
       "1     4.0     aldfly         2  2013-05-27    36.310   \n",
       "2     4.0     aldfly         2  2013-05-27    39.236   \n",
       "3     3.5     aldfly         2  2013-05-27    33.593   \n",
       "4     4.0     aldfly         2  2013-05-27    36.023   \n",
       "\n",
       "                                            filename latitude  sampling_rate  \\\n",
       "0  data/birdsong-recognition/train_audio/aldfly/X...   44.793          48000   \n",
       "1  data/birdsong-recognition/train_audio/aldfly/X...  36.1065          44100   \n",
       "2  data/birdsong-recognition/train_audio/aldfly/X...  36.1065          44100   \n",
       "3  data/birdsong-recognition/train_audio/aldfly/X...  36.1065          44100   \n",
       "4  data/birdsong-recognition/train_audio/aldfly/X...  36.1065          44100   \n",
       "\n",
       "         type elevation file_type longitude   time       common_name  \\\n",
       "0        call     220 m       mp3   -92.962   8:00  Alder Flycatcher   \n",
       "1  call, song    1700 m       mp3  -82.1106  08:30  Alder Flycatcher   \n",
       "2  call, song    1700 m       mp3  -82.1106  08:30  Alder Flycatcher   \n",
       "3  call, song    1700 m       mp3  -82.1106  08:30  Alder Flycatcher   \n",
       "4  call, song    1700 m       mp3  -82.1106  08:30  Alder Flycatcher   \n",
       "\n",
       "            sci_name          order                           family  \\\n",
       "0  Empidonax alnorum  Passeriformes  Tyrannidae (Tyrant Flycatchers)   \n",
       "1  Empidonax alnorum  Passeriformes  Tyrannidae (Tyrant Flycatchers)   \n",
       "2  Empidonax alnorum  Passeriformes  Tyrannidae (Tyrant Flycatchers)   \n",
       "3  Empidonax alnorum  Passeriformes  Tyrannidae (Tyrant Flycatchers)   \n",
       "4  Empidonax alnorum  Passeriformes  Tyrannidae (Tyrant Flycatchers)   \n",
       "\n",
       "                                       species_group  array_size  \n",
       "0  Tyrant Flycatchers: Pewees, Kingbirds, and Allies     2446848  \n",
       "1  Tyrant Flycatchers: Pewees, Kingbirds, and Allies     6405120  \n",
       "2  Tyrant Flycatchers: Pewees, Kingbirds, and Allies     6921216  \n",
       "3  Tyrant Flycatchers: Pewees, Kingbirds, and Allies     5925888  \n",
       "4  Tyrant Flycatchers: Pewees, Kingbirds, and Allies     6354432  "
      ]
     },
     "execution_count": 1832,
     "metadata": {},
     "output_type": "execute_result"
    }
   ],
   "source": [
    "print_boundry('Begining to load audio files')\n",
    "start_time = time.time()\n",
    "\n",
    "for bird in df['ebird_code'].unique(): # Iterate through each unique bird species\n",
    "    # Update the local state variables\n",
    "    bird_count += 1 # Increment the bird count\n",
    "    count = 0 # Reset the count for the number of audio files processed for the current bird\n",
    "    bird_time = time.time() # Mark the start time for the current bird\n",
    "\n",
    "    if old_records is not None: # Check for cached results\n",
    "        if bird in old_records['ebird_code'].values: # Check if this bird is in the cached results\n",
    "            bird_df = old_records[old_records['ebird_code'] == bird] # Load the cached results for the bird\n",
    "            new_df = pd.concat([new_df, bird_df], ignore_index=True) # Add the cached results to the new dataframe\n",
    "            total_count += len(bird_df) # Update the total count\n",
    "            continue # Continue to the next bird without processing the audio files\n",
    "    \n",
    "    # Get the full file paths for every audio file of the bird\n",
    "    file_paths = df[df['ebird_code'] == bird]['filename'].values\n",
    "    file_paths = [f'data/birdsong-recognition/train_audio/{bird}/{file}' for file in file_paths]\n",
    "\n",
    "    for file_path in file_paths: # Iterate through each audio file of the bird\n",
    "        # Update the state variables\n",
    "        count, total_count = count+1, total_count+1 \n",
    "\n",
    "        # Load the audio file\n",
    "        sound = load_sound_file(file_path) \n",
    "        if sound is None:\n",
    "            continue # Skip to the next audio file if the current file cannot be loaded\n",
    "\n",
    "        # Make the new row for the dataframe\n",
    "        row = df[(df['filename'] == file_path.split('/')[-1]) & (df['ebird_code'] == bird)].iloc[0]\n",
    "        # Recaluclate various properties of the audio file\n",
    "        row['filename'] = file_path # Update the filename to the full path\n",
    "        signal = np.array(sound.get_array_of_samples())\n",
    "        row['array_size'] = signal.nbytes # New column for the size of the array in bytes\n",
    "        row['duration'] = len(sound) / 1000 # Duration in seconds updated as a float\n",
    "        row['sampling_rate'] = sound.frame_rate # Sampling rate updated as an integer\n",
    "        row['channels'] = sound.channels # Number of channels updated as an integer\n",
    "        \n",
    "        new_df = pd.concat([new_df, pd.DataFrame([row])], ignore_index=True) # Add the row to the new dataframe\n",
    "\n",
    "        # Update the progress bar\n",
    "        message = f'{bird}'\n",
    "        message += f' - {bird_count}/{len(df[\"ebird_code\"].unique())}'\n",
    "        message += f' - {calculate_time_remaining(start_time, total_count, len(df))}'\n",
    "        display_handler = print_progress_bar(count, len(file_paths), display_handler=display_handler, message=message)\n",
    "    \n",
    "    new_df.to_csv('exports/audio_metadata.csv', index=False) # Save the new dataframe to a csv file after processing each bird\n",
    "\n",
    "print_boundry('Finished Validating Audio Files')\n",
    "\n",
    "\n",
    "# Calculate the total time taken to load the audio files\n",
    "total_time = time.time() - start_time\n",
    "\n",
    "#Print the final results\n",
    "print(f'Total Files: {total_count}')\n",
    "print(f'Total Time: {time_to_human_readable(total_time)}')\n",
    "\n",
    "df = pd.read_csv('exports/audio_metadata.csv') # Load the new dataframe from the csv file\n",
    "print_boundry('New DataFrame')\n",
    "print(f'Total Memory of All Audio Signal Arrays: {bytes_to_human_readable(df[\"array_size\"].sum())}')\n",
    "print(df.columns)\n",
    "print_memory_usage(df)\n",
    "df.head()"
   ]
  },
  {
   "cell_type": "markdown",
   "metadata": {},
   "source": [
    "### 2. Data Preprocessing"
   ]
  },
  {
   "cell_type": "markdown",
   "metadata": {},
   "source": [
    "#### a) Date and Time values\n",
    "The `time` column in the dataset contains inconsistent formatting that requires normalization.\n",
    " - Some values are presented in 12-hour format with am or pm designations.\n",
    " - Others appear in 24-hour format.\n",
    " - Certain entries contain invalid characters, such as `?`."
   ]
  },
  {
   "cell_type": "code",
   "execution_count": 1833,
   "metadata": {},
   "outputs": [
    {
     "name": "stdout",
     "output_type": "stream",
     "text": [
      "Example time v5lues: ['08:36' '17:04' '08:30' '?' '09:00']\n",
      "\n",
      "Example time values with \"pm\": ['2:00pm' '04:15:00 pm' 'pm' '2:30pm' '2:00pm']\n",
      "Example time values with \"am\": ['am' '11:30am' '11:30am' '7:45am' '12:00am']\n",
      "Example time values with \"?\": ['?' '?' '?' '?' '?']\n",
      "\n",
      "Number of values with \"pm\": 60\n",
      "Number of values with \"am\": 151\n",
      "Number of values with \"?\": 882\n"
     ]
    }
   ],
   "source": [
    "print(f'Example time v5lues: {df.sample(5)[\"time\"].values}')\n",
    "print()\n",
    "print(f'Example time values with \"pm\": {df[df[\"time\"].str.contains(\"pm\")].sample(5)[\"time\"].values}')\n",
    "print(f'Example time values with \"am\": {df[df[\"time\"].str.contains(\"am\")].sample(5)[\"time\"].values}')\n",
    "print(f'Example time values with \"?\": {df[df[\"time\"].str.contains(\"\\\\?\")].sample(5)[\"time\"].values}')\n",
    "print()\n",
    "print(f'Number of values with \"pm\": {len(df[df[\"time\"].str.contains(\"pm\")])}')\n",
    "print(f'Number of values with \"am\": {len(df[df[\"time\"].str.contains(\"am\")])}')\n",
    "print(f'Number of values with \"?\": {len(df[df[\"time\"].str.contains(\"\\\\?\")])}')"
   ]
  },
  {
   "cell_type": "markdown",
   "metadata": {},
   "source": [
    "In the end the time value is most useful as a value between 0 and 1 and this presents an opportunity to normalize that value here. The plan for normalization to address the variance in data is:\n",
    " 1. Convert 12-hour time values to 24-hour format (e.g., 3:00pm is converted to 15:00).\n",
    " 2. Handle invalid or poorly formatted entries (e.g., ? or non-standard strings) by returning None.\n",
    " 3. Normalize valid times to a floating-point range [0, 1], where 0 corresponds to 00:00 (midnight) and 1 corresponds to 23:59 (end of the day)."
   ]
  },
  {
   "cell_type": "code",
   "execution_count": 1834,
   "metadata": {},
   "outputs": [],
   "source": [
    "def normalize_time(time_str: str) -> Optional[float]:\n",
    "    \"\"\"Normalize the time string to a value in the range [0,1] representing the time of day from 00:00 to 23:59.\n",
    "    Handle cases where the time string is in a 24-hour format, or 12-hour format with AM/PM.\n",
    "    If the time string is invalid, return None.\n",
    "\n",
    "    Args:\n",
    "        time_str (str): The time string to normalize.\n",
    "    \n",
    "    Returns:\n",
    "        Optional[float]: The normalized time value in the range [0,1], or None if the time string is invalid.\n",
    "    \"\"\"\n",
    "    # Handle outliers in format\n",
    "    if 'pm' in time_str.lower(): # If the time string contains 'pm', convert it to 24-hour format\n",
    "        time_str = time_str.replace('pm', '').strip()\n",
    "        try:\n",
    "            hours, minutes = time_str.split(':')\n",
    "        except:\n",
    "            return None # If the time string is not parsable, return None\n",
    "        if int(hours) != 12:\n",
    "            hours = int(hours) + 12\n",
    "        time_str = f'{hours}:{minutes}'\n",
    "    elif 'am' in time_str: # If the time string contains 'am', convert it to 24-hour format\n",
    "        time_str = time_str.replace('am', '').strip()\n",
    "        try:\n",
    "            hours, minutes = time_str.split(':')\n",
    "        except:\n",
    "            return None # If the time string is not parsable, return None\n",
    "        if int(hours) == 12:\n",
    "            hours = 0\n",
    "        time_str = f'{hours}:{minutes}'\n",
    "    if not re.match(r'^\\d{1,2}:\\d{2}$', time_str):\n",
    "        return None # If the time string does not match the format 'hh:mm', return None. This removes anything with trailing characters\n",
    "    \n",
    "    # Normalize value to range [0,1]\n",
    "    hours, minutes = time_str.split(':')\n",
    "    total_minutes = int(hours) * 60 + int(minutes) # Calculate the total minutes from 00:00\n",
    "    return total_minutes / (24 * 60) # Divide by the total minutes in a day to get the normalized value"
   ]
  },
  {
   "cell_type": "code",
   "execution_count": 1835,
   "metadata": {},
   "outputs": [
    {
     "name": "stdout",
     "output_type": "stream",
     "text": [
      "---------------------------------- 962 Invalid Time Values Removed ----------------------------------\n",
      "Normalized Time Range Interval: [0.0,0.9965277777777778]\n",
      "Normalized Time Span: 0.9965277777777778\n"
     ]
    }
   ],
   "source": [
    "count = len(df) # Get the total number of rows in the dataframe before removing invalid time values\n",
    "df['time'] = df['time'].apply(normalize_time) # Normalize the time values in the dataframe\n",
    "df = df.dropna(subset=['time']) # Remove rows that have invalid time values that resolved to None\n",
    "count = count - len(df) # Calculate the number of invalid time values removed\n",
    "print_boundry(f'{count} Invalid Time Values Removed')\n",
    "print_range(df['time'], 'Normalized Time')\n"
   ]
  },
  {
   "cell_type": "markdown",
   "metadata": {},
   "source": [
    "Similarly, the date column contains issues such as:\n",
    " - Years, months, or days with invalid values (e.g., 0000-00-00)."
   ]
  },
  {
   "cell_type": "code",
   "execution_count": 1836,
   "metadata": {},
   "outputs": [
    {
     "name": "stdout",
     "output_type": "stream",
     "text": [
      "Example date values: ['2014-06-13' '2015-02-11' '2013-03-07' '2013-06-10' '2019-02-21']\n",
      "\n",
      "Example date values with year equal to 0000: ['0000-00-00']\n",
      "Example date values with month equal to 00: ['0000-00-00' '2007-00-00' '2017-00-07']\n",
      "Example date values with day equal to 00: ['0000-00-00' '2009-02-00' '2009-04-00' '2009-06-00' '2009-08-00'\n",
      " '1992-08-00' '2007-00-00' '2009-03-00' '1996-09-00']\n",
      "\n",
      "Number of values with year equal to 0000: 4\n",
      "Number of values with month equal to 00: 9\n",
      "Number of values with day equal to 00: 17\n"
     ]
    }
   ],
   "source": [
    "print(f'Example date values: {df.sample(5)[\"date\"].values}')\n",
    "print()\n",
    "print(f'Example date values with year equal to 0000: {df[df[\"date\"].str.contains(\"0000\")][\"date\"].unique()}')\n",
    "print(f'Example date values with month equal to 00: {df[df[\"date\"].str.contains(\"-00-\")][\"date\"].unique()}')\n",
    "print(f'Example date values with day equal to 00: {df[df[\"date\"].str.contains(\"-00$\")][\"date\"].unique()}')\n",
    "print()\n",
    "print(f'Number of values with year equal to 0000: {len(df[df[\"date\"].str.contains(\"0000\")])}')\n",
    "print(f'Number of values with month equal to 00: {len(df[df[\"date\"].str.contains(\"-00-\")])}')\n",
    "print(f'Number of values with day equal to 00: {len(df[df[\"date\"].str.contains(\"-00$\")])}')"
   ]
  },
  {
   "cell_type": "markdown",
   "metadata": {},
   "source": [
    "The plan for normalization of the `date` column is:\n",
    " 1. If the month is 00, return None.\n",
    " 2. If the day is 00, assume the first day of the month.\n",
    " 3. Normalize valid dates to a range of [0, 1], where 0 represents January 1st and 1 represents December 31st of a non-leap year. The year value is completely ignored."
   ]
  },
  {
   "cell_type": "code",
   "execution_count": 1837,
   "metadata": {},
   "outputs": [],
   "source": [
    "def normalize_date(date_str: str) -> Optional[float]:\n",
    "    \"\"\"Normalize the date string to a value in the range [0,1] representing the date of the year from January 1st to December 31st.\n",
    "    Ignore the year component of the date string.\n",
    "    If the month component is invalid, return None.\n",
    "    If the day component is invalid, assume the first day of the month.\n",
    "    \n",
    "    Args:\n",
    "        date_str (str): The date string to normalize.\n",
    "    \n",
    "    Returns:\n",
    "        Optional[float]: The normalized date value in the range [0,1], or None if the date string is invalid.\n",
    "    \n",
    "    Note:\n",
    "        The function assumes a non-leap year with 365 days always. Error from this assumption is negligible.\n",
    "    \"\"\"\n",
    "    # Handle outliers in format\n",
    "    if not re.match(r'^\\d{4}-\\d{2}-\\d{2}$', date_str):\n",
    "        return None # If the date string does not match the format 'yyyy-mm-dd', return None\n",
    "    _, month, day = date_str.split('-') # Extract the month and day components from the date string\n",
    "    month, day = int(month), int(day) # Convert the month and day components to integers\n",
    "    if month < 1 or month > 12:\n",
    "        return None # If the month date is invald, return None\n",
    "    if day < 1:\n",
    "        day = '01' # If the day is less than 1, assume the first day of the month\n",
    "    if int(day) > 28:\n",
    "        day = '28' # If the day is greater than 28, set it to 28 to avoid invalid dates\n",
    "    date_str = f'2023-{month}-{day}' # Set the year to 2023 for a non-leap year\n",
    "\n",
    "    date = datetime.strptime(date_str, '%Y-%m-%d') # Parse the date string to a datetime object\n",
    "\n",
    "    # Normalize value to range [0,1] based on the day of the year\n",
    "    total_days = (date - datetime(date.year, 1, 1)).days # Calculate the total days from January 1st\n",
    "    return total_days / 365 # Divide by the total days in a year to get the normalized value"
   ]
  },
  {
   "cell_type": "code",
   "execution_count": 1838,
   "metadata": {},
   "outputs": [
    {
     "name": "stdout",
     "output_type": "stream",
     "text": [
      "----------------------------------- 9 Invalid Date Values Removed -----------------------------------\n",
      "Normalized Date Range Interval: [0.0,0.989041095890411]\n",
      "Normalized Date Span: 0.989041095890411\n"
     ]
    }
   ],
   "source": [
    "count = len(df) # Get the total number of rows in the dataframe before removing invalid date values\n",
    "df['date'] = df['date'].apply(normalize_date) # Normalize the date values in the dataframe\n",
    "df = df.dropna(subset=['date']) # Remove rows that have invalid date values that resolved to None\n",
    "count = count - len(df) # Calculate the number of invalid date values removed\n",
    "print_boundry(f'{count} Invalid Date Values Removed')\n",
    "print_range(df['date'], 'Normalized Date')"
   ]
  },
  {
   "cell_type": "markdown",
   "metadata": {},
   "source": [
    "#### b) Latitude and Longitude Values\n",
    "The latitude and longitude values were examined for irregularities as well by searching for values that could not be parsed to a folating point value. The seach was performed by a short regex lambda:"
   ]
  },
  {
   "cell_type": "code",
   "execution_count": 1839,
   "metadata": {},
   "outputs": [],
   "source": [
    "is_float = lambda x: re.match(r'^-?\\d+(\\.\\d+)?$', x) is not None # Check if a string could be converted to a float"
   ]
  },
  {
   "cell_type": "markdown",
   "metadata": {},
   "source": [
    "Which yeilded the following results:"
   ]
  },
  {
   "cell_type": "code",
   "execution_count": 1840,
   "metadata": {},
   "outputs": [
    {
     "name": "stdout",
     "output_type": "stream",
     "text": [
      "Example latitude values: ['49.2647' '33.2215' '39.8889' '40.3722' '34.3945']\n",
      "\n",
      "Latitude values that are not floats: ['Not specified']\n",
      "Longitude values that are not floats: ['Not specified']\n",
      "\n",
      "Number of values that can not be converted to a float: 153\n",
      "Number of values that can not be converted to a float: 153\n"
     ]
    }
   ],
   "source": [
    "print(f'Example latitude values: {df.sample(5)[\"latitude\"].values}')\n",
    "print()\n",
    "print(f'Latitude values that are not floats: {df[~df[\"latitude\"].apply(is_float)][\"latitude\"].unique()}')\n",
    "print(f'Longitude values that are not floats: {df[~df[\"longitude\"].apply(is_float)][\"longitude\"].unique()}')\n",
    "print()\n",
    "print(f'Number of values that can not be converted to a float: {len(df[~df[\"latitude\"].apply(is_float)])}')\n",
    "print(f'Number of values that can not be converted to a float: {len(df[~df[\"longitude\"].apply(is_float)])}')"
   ]
  },
  {
   "cell_type": "markdown",
   "metadata": {},
   "source": [
    "Any value that did not pass this test was then removed from the dataset."
   ]
  },
  {
   "cell_type": "code",
   "execution_count": 1841,
   "metadata": {},
   "outputs": [
    {
     "name": "stdout",
     "output_type": "stream",
     "text": [
      "-------------------------- 153 Invalid Latitude or Longitude Values Removed --------------------------\n",
      "Latitude Range Interval: [-53.162,78.9281]\n",
      "Latitude Span: 132.0901\n",
      "Longitude Range Interval: [-171.7468,178.9822]\n",
      "Longitude Span: 350.72900000000004\n"
     ]
    }
   ],
   "source": [
    "count = len(df) # Get the total number of rows in the dataframe before removing invalid values\n",
    "df = df[df['latitude'].apply(is_float) & df['longitude'].apply(is_float)] # Remove rows with invalid latitude or longitude values\n",
    "count = count - len(df) # Calculate the number of invalid values removed\n",
    "print_boundry(f'{count} Invalid Latitude or Longitude Values Removed')\n",
    "print_range(df['latitude'], 'Latitude')\n",
    "print_range(df['longitude'], 'Longitude')"
   ]
  },
  {
   "cell_type": "markdown",
   "metadata": {},
   "source": [
    "Next the data needs to be normalized to be in the range [0,1]. All values were scaled based on the theoretical range of latitude and longitude values ([-90,90] and [-180,180] respectively) with the following formulas:\n",
    "\n",
    "$\n",
    "\\large\n",
    "f(\\text{{latitude}}) = \\frac{{\\text{{latidude}} + 90}}{{180}}\n",
    "$\n",
    "\n",
    "$\n",
    "\\large\n",
    "f(\\text{{longitude}}) = \\frac{{\\text{{longitude}} + 180}}{{360}}\n",
    "$"
   ]
  },
  {
   "cell_type": "code",
   "execution_count": 1842,
   "metadata": {},
   "outputs": [],
   "source": [
    "def normalize_latitude(lat_str: str) -> float:\n",
    "    \"\"\"Normalize the latitude string to a value in the range [0,1] representing the latitude from -90 to 90 degrees.\n",
    "    Does not handle invalid latitude strings.\n",
    "\n",
    "    Args:\n",
    "        lat_str (str): The latitude string to normalize.\n",
    "    \n",
    "    Returns:\n",
    "        float: The normalized latitude value in the range [0,1].\n",
    "    \"\"\"\n",
    "    return (float(lat_str) + 90) / 180\n",
    "\n",
    "\n",
    "def normalize_longitude(lon_str: str) -> Optional[float]:\n",
    "    \"\"\"Normalize the longitude string to a value in the range [0,1] representing the longitude from -180 to 180 degrees.\n",
    "    Does not handle invalid longitude strings.\n",
    "\n",
    "    Args:\n",
    "        lon_str (str): The longitude string to normalize.\n",
    "    \n",
    "    Returns:\n",
    "        float: The normalized longitude value in the range [0,1].\n",
    "    \"\"\"\n",
    "    return (float(lon_str) + 180) / 360"
   ]
  },
  {
   "cell_type": "code",
   "execution_count": 1843,
   "metadata": {},
   "outputs": [
    {
     "name": "stdout",
     "output_type": "stream",
     "text": [
      "Normalized Latitude Range Interval: [0.20465555555555556,0.9384894444444445]\n",
      "Normalized Latitude Span: 0.7338338888888889\n",
      "Normalized Longitude Range Interval: [0.022925555555555536,0.9971727777777779]\n",
      "Normalized Longitude Span: 0.9742472222222224\n"
     ]
    }
   ],
   "source": [
    "df['latitude'] = df['latitude'].apply(normalize_latitude) # Normalize the latitude values in the dataframe\n",
    "df['longitude'] = df['longitude'].apply(normalize_longitude) # Normalize the longitude values in the dataframe\n",
    "print_range(df['latitude'], 'Normalized Latitude')\n",
    "print_range(df['longitude'], 'Normalized Longitude')"
   ]
  },
  {
   "cell_type": "markdown",
   "metadata": {},
   "source": [
    "#### c) Elevation Values"
   ]
  },
  {
   "cell_type": "markdown",
   "metadata": {},
   "source": [
    "When analizing the `elevation` column the values all seemed to be labeled in meters, with the exception of a few values with \"m m\" listed instead of simply 'm'. It is assumed this is a typo and these are all on the same scale, any value with a one of those formats wil be converted into a valid float value."
   ]
  },
  {
   "cell_type": "code",
   "execution_count": 1844,
   "metadata": {},
   "outputs": [
    {
     "name": "stdout",
     "output_type": "stream",
     "text": [
      "Example elevation values: ['130 m' '1300 m' '40 m' '30 m' '2700 m']\n",
      "\n",
      "Example elevation values with \"m m\": ['1400m m' '3.3 m m' '1900m m']\n",
      "\n",
      "Number of values with \"m\": 20034\n",
      "Number of values with \"m m\": 10\n"
     ]
    }
   ],
   "source": [
    "print(f'Example elevation values: {df.sample(5)[\"elevation\"].values}')\n",
    "print()\n",
    "print(f'Example elevation values with \"m m\": {df[df[\"elevation\"].str.contains(\"m m\")][\"elevation\"].unique()}')\n",
    "print()\n",
    "print(f'Number of values with \"m\": {len(df[df[\"elevation\"].str.contains(\"m\")])}')\n",
    "print(f'Number of values with \"m m\": {len(df[df[\"elevation\"].str.contains(\"m m\")])}')"
   ]
  },
  {
   "cell_type": "code",
   "execution_count": 1845,
   "metadata": {},
   "outputs": [],
   "source": [
    "remove_m = lambda x: x.replace('m', '').strip() if 'm' in x else x # Remove the 'm' character from the elevation string"
   ]
  },
  {
   "cell_type": "code",
   "execution_count": 1846,
   "metadata": {},
   "outputs": [],
   "source": [
    "df['elevation'] = df['elevation'].apply(remove_m) # Remove the 'm' character from the elevation values\n",
    "df['elevation'] = df['elevation'].apply(remove_m) # Remove the second 'm' character from the elevation values if present"
   ]
  },
  {
   "cell_type": "markdown",
   "metadata": {},
   "source": [
    "When checking for secondary irregularities there appears to be some values which are a range of elevation values in the format \"{minimum}-{maximum}\". In these cases the center point of the elevation range will be given. The other abnormalities that make the value not able to convert to a float will be dropped from the dataset."
   ]
  },
  {
   "cell_type": "code",
   "execution_count": 1847,
   "metadata": {},
   "outputs": [
    {
     "name": "stdout",
     "output_type": "stream",
     "text": [
      "Abnormal elevation values: ['?' '' '930-990' '1650-1900' '-']\n",
      "Number of abnormal elevation values: 107\n"
     ]
    }
   ],
   "source": [
    "print(f'Abnormal elevation values: {df[~df[\"elevation\"].apply(is_float)][\"elevation\"].unique()}')\n",
    "print(f'Number of abnormal elevation values: {len(df[~df[\"elevation\"].apply(is_float)])}')"
   ]
  },
  {
   "cell_type": "code",
   "execution_count": 1848,
   "metadata": {},
   "outputs": [],
   "source": [
    "is_range = lambda x: re.match(r'^-?\\d+(\\.\\d+)?--?\\d+(\\.\\d+)?$', x) is not None # Check if a string could be converted to a range"
   ]
  },
  {
   "cell_type": "code",
   "execution_count": 1849,
   "metadata": {},
   "outputs": [
    {
     "name": "stdout",
     "output_type": "stream",
     "text": [
      "Example elevation range values: ['930-990' '1650-1900']\n",
      "Number of elevation range values: 2\n"
     ]
    }
   ],
   "source": [
    "print(f'Example elevation range values: {df[df[\"elevation\"].apply(is_range)][\"elevation\"].unique()}')\n",
    "print(f'Number of elevation range values: {len(df[df[\"elevation\"].apply(is_range)])}')"
   ]
  },
  {
   "cell_type": "code",
   "execution_count": 1850,
   "metadata": {},
   "outputs": [],
   "source": [
    "def elevation_to_float(elevation_str: str) -> Optional[float]:\n",
    "    \"\"\"Convert the elevation string to a float value.\n",
    "    If the elevation string is a range, take the average of the range.\n",
    "    If the elevation string is invalid, return None.\n",
    "\n",
    "    Args:\n",
    "        elevation_str (str): The elevation string to convert.\n",
    "    \n",
    "    Returns:\n",
    "        Optional[float]: The elevation value as a float, or None if the elevation string is invalid.\n",
    "    \"\"\"\n",
    "    if is_range(elevation_str): # If the elevation string is a range\n",
    "        elevations = list(map(float, elevation_str.split('-')))\n",
    "        return sum(elevations) / 2 # Return the average of the range\n",
    "    try:\n",
    "        return float(elevation_str) # Convert the elevation string to a float\n",
    "    except:\n",
    "        return None # Return None if the elevation string is invalid"
   ]
  },
  {
   "cell_type": "code",
   "execution_count": 1851,
   "metadata": {},
   "outputs": [
    {
     "name": "stdout",
     "output_type": "stream",
     "text": [
      "-------------------------------- 105 Invalid Elevation Values Removed --------------------------------\n",
      "Range Interval: [-240.0,4600.0]\n",
      "Span: 4840.0\n"
     ]
    },
    {
     "data": {
      "image/png": "[encoded data removed]",
      "text/plain": [
       "<Figure size 640x480 with 1 Axes>"
      ]
     },
     "metadata": {},
     "output_type": "display_data"
    }
   ],
   "source": [
    "count = len(df) # Get the total number of rows in the dataframe before removing invalid values\n",
    "df['elevation'] = df['elevation'].apply(elevation_to_float) # Convert the elevation values to floats\n",
    "df = df.dropna(subset=['elevation']) # Remove rows with invalid elevation values\n",
    "count = count - len(df) # Calculate the number of invalid values removed\n",
    "print_boundry(f'{count} Invalid Elevation Values Removed')\n",
    "print_range(df['elevation'])\n",
    "plot_histogram(df['elevation'], 'Elevation Histogram')"
   ]
  },
  {
   "cell_type": "markdown",
   "metadata": {},
   "source": [
    "There is no theoretical minimum or maximum to elevation, so normalizing values to the range [0,1] presents some issues. The range could be normalized based on the minimums and maximums present in the data but the distribution of data based on the histogram implies a large spread of data at the top of the distrobution. If the outliers at high elevation are too far from the bulk of the values than resolution of information is lost in the bulk of the data. The specifics of the range of outliers was further examined."
   ]
  },
  {
   "cell_type": "code",
   "execution_count": 1852,
   "metadata": {},
   "outputs": [
    {
     "name": "stdout",
     "output_type": "stream",
     "text": [
      "------------- Middle 98 percentile of Elevation Values: 2581 Elevation Outliers Removed -------------\n",
      "Range Interval: [1.0,2800.0]\n",
      "Span: 2799.0\n"
     ]
    }
   ],
   "source": [
    "filtered_df = df[(df['elevation'] < df['elevation'].quantile(0.99)) & (df['elevation'] > df['elevation'].quantile(0.01))]\n",
    "print_boundry(f'Middle 98 percentile of Elevation Values: {len(df) - len(filtered_df)} Elevation Outliers Removed')\n",
    "print_range(filtered_df['elevation'])"
   ]
  },
  {
   "cell_type": "markdown",
   "metadata": {},
   "source": [
    "By cutting out only the top and bottom 1 percentile of the dataset, the span of the dataset drops from 4840 down to 2799, Implying a large disparity in only a few values. A further analysis was run where the outliers were calulated and filtered out with the following outlier function:"
   ]
  },
  {
   "cell_type": "code",
   "execution_count": 1853,
   "metadata": {},
   "outputs": [
    {
     "name": "stdout",
     "output_type": "stream",
     "text": [
      "Lower Bound: -1700.00\n",
      "Upper Bound: 2940.00\n"
     ]
    }
   ],
   "source": [
    "iqr = df['elevation'].quantile(0.75) - df['elevation'].quantile(0.25) # Calculate the interquartile range\n",
    "lower_bound = df['elevation'].quantile(0.25) - 1.5 * iqr # Calculate the lower bound\n",
    "upper_bound = df['elevation'].quantile(0.75) + 1.5 * iqr # Calculate the upper bound\n",
    "print(f'Lower Bound: {lower_bound:.2f}')\n",
    "print(f'Upper Bound: {upper_bound:.2f}')\n",
    "\n",
    "remove_elevation_outliers = lambda x: x if lower_bound <= x <= upper_bound else None # Remove elevation outliers"
   ]
  },
  {
   "cell_type": "code",
   "execution_count": 1854,
   "metadata": {},
   "outputs": [
    {
     "name": "stdout",
     "output_type": "stream",
     "text": [
      "----------------------------------- 191 Elevation Outliers Removed -----------------------------------\n",
      "Range Interval: [-240.0,2900.0]\n",
      "Span: 3140.0\n"
     ]
    }
   ],
   "source": [
    "filtered_df = df['elevation'].apply(remove_elevation_outliers).dropna() # Remove elevation outliers\n",
    "print_boundry(f'{len(df) - len(filtered_df)} Elevation Outliers Removed')\n",
    "print_range(filtered_df)"
   ]
  },
  {
   "cell_type": "markdown",
   "metadata": {},
   "source": [
    "The decition was made to normalize the elevation values where instead of mapping the minimum value to 0 and the maximum value to 1 and scaling everything else to match, the values were mapped based on the edges of the outlier range. If the true minimum or maximum was not considered an outlier it was used as the reference point, and if it was considered an outlier, the boundry of the outlier range was used to map the values."
   ]
  },
  {
   "cell_type": "code",
   "execution_count": 1855,
   "metadata": {},
   "outputs": [],
   "source": [
    "def normalize_elevation(elevation: float, min=np.maximum(lower_bound, df['elevation'].min()), max=np.minimum(upper_bound, df['elevation'].max())) -> float:\n",
    "    \"\"\"Map the elevation value to a range such that the minimum value is 0 and the maximum value is 1 where \n",
    "    the minimum value is either the lower bound of outliers or the minimum value in the dataframe, and\n",
    "    the maximum value is either the upper bound of outliers or the maximum value in the dataframe.\n",
    "\n",
    "    Args:\n",
    "        elevation (float): The elevation value to normalize.\n",
    "        min (float, optional): The minimum value of the range.\n",
    "        max (float, optional): The maximum value of the range.\n",
    "    \"\"\"\n",
    "    return (elevation - min) / (max - min) # Normalize the elevation to the range [0,1]"
   ]
  },
  {
   "cell_type": "code",
   "execution_count": 1856,
   "metadata": {},
   "outputs": [
    {
     "name": "stdout",
     "output_type": "stream",
     "text": [
      "Normalized Elevation Range Interval: [0.0,1.5220125786163523]\n",
      "Normalized Elevation Span: 1.5220125786163523\n",
      "\n",
      "Total values: 19929\n",
      "Number of elevation values above 1: 191\n"
     ]
    }
   ],
   "source": [
    "df['elevation'] = df['elevation'].apply(normalize_elevation) # Normalize the elevation values in the dataframe\n",
    "print_range(df['elevation'], 'Normalized Elevation')\n",
    "print()\n",
    "print(f'Total values: {len(df)}')\n",
    "print(f'Number of elevation values above 1: {len(df[df[\"elevation\"] > 1])}')"
   ]
  },
  {
   "cell_type": "markdown",
   "metadata": {},
   "source": [
    "Based on this distribution, over 99% of the data is in the range [0,1]."
   ]
  },
  {
   "cell_type": "markdown",
   "metadata": {},
   "source": [
    "### 3. Final Columns"
   ]
  },
  {
   "cell_type": "code",
   "execution_count": 1857,
   "metadata": {},
   "outputs": [
    {
     "name": "stdout",
     "output_type": "stream",
     "text": [
      "Index(['rating', 'ebird_code', 'channels', 'date', 'duration', 'filename',\n",
      "       'latitude', 'sampling_rate', 'type', 'elevation', 'file_type',\n",
      "       'longitude', 'time', 'common_name', 'sci_name', 'order', 'family',\n",
      "       'species_group', 'array_size'],\n",
      "      dtype='object')\n"
     ]
    }
   ],
   "source": [
    "print(df.columns)"
   ]
  },
  {
   "cell_type": "markdown",
   "metadata": {},
   "source": [
    "#### a) Explanation for Feature Columns"
   ]
  },
  {
   "cell_type": "markdown",
   "metadata": {},
   "source": [
    "##### (i) `date`"
   ]
  },
  {
   "cell_type": "code",
   "execution_count": 1858,
   "metadata": {},
   "outputs": [
    {
     "name": "stdout",
     "output_type": "stream",
     "text": [
      "Date Range Interval: [0.0,0.989041095890411]\n",
      "Date Span: 0.989041095890411\n"
     ]
    },
    {
     "data": {
      "image/png": "[encoded data removed]",
      "text/plain": [
       "<Figure size 640x480 with 1 Axes>"
      ]
     },
     "metadata": {},
     "output_type": "display_data"
    }
   ],
   "source": [
    "print_range(df['date'], 'Date')\n",
    "plot_histogram(df['date'], 'Date Histogram')"
   ]
  },
  {
   "cell_type": "markdown",
   "metadata": {},
   "source": [
    "##### (ii) `time`"
   ]
  },
  {
   "cell_type": "code",
   "execution_count": 1859,
   "metadata": {},
   "outputs": [
    {
     "name": "stdout",
     "output_type": "stream",
     "text": [
      "Time Range Interval: [0.0,0.9965277777777778]\n",
      "Time Span: 0.9965277777777778\n"
     ]
    },
    {
     "data": {
      "image/png": "[encoded data removed]",
      "text/plain": [
       "<Figure size 640x480 with 1 Axes>"
      ]
     },
     "metadata": {},
     "output_type": "display_data"
    }
   ],
   "source": [
    "print_range(df['time'], 'Time')\n",
    "plot_histogram(df['time'], 'Time Histogram')"
   ]
  },
  {
   "cell_type": "markdown",
   "metadata": {},
   "source": [
    "##### (iii) `latitude`"
   ]
  },
  {
   "cell_type": "code",
   "execution_count": 1860,
   "metadata": {},
   "outputs": [
    {
     "name": "stdout",
     "output_type": "stream",
     "text": [
      "Latitude Range Interval: [0.20465555555555556,0.9384894444444445]\n",
      "Latitude Span: 0.7338338888888889\n"
     ]
    },
    {
     "data": {
      "image/png": "[encoded data removed]",
      "text/plain": [
       "<Figure size 640x480 with 1 Axes>"
      ]
     },
     "metadata": {},
     "output_type": "display_data"
    }
   ],
   "source": [
    "print_range(df['latitude'], 'Latitude')\n",
    "plot_histogram(df['latitude'], 'Latitude Histogram')"
   ]
  },
  {
   "cell_type": "markdown",
   "metadata": {},
   "source": [
    "##### (iv) `longitude`"
   ]
  },
  {
   "cell_type": "code",
   "execution_count": 1861,
   "metadata": {},
   "outputs": [
    {
     "name": "stdout",
     "output_type": "stream",
     "text": [
      "Longitude Range Interval: [0.022925555555555536,0.9971727777777779]\n",
      "Longitude Span: 0.9742472222222224\n"
     ]
    },
    {
     "data": {
      "image/png": "[encoded data removed]",
      "text/plain": [
       "<Figure size 640x480 with 1 Axes>"
      ]
     },
     "metadata": {},
     "output_type": "display_data"
    }
   ],
   "source": [
    "print_range(df['longitude'], 'Longitude')\n",
    "plot_histogram(df['longitude'], 'Longitude Histogram')"
   ]
  },
  {
   "cell_type": "markdown",
   "metadata": {},
   "source": [
    "##### (v) `elevation`"
   ]
  },
  {
   "cell_type": "code",
   "execution_count": 1862,
   "metadata": {},
   "outputs": [
    {
     "name": "stdout",
     "output_type": "stream",
     "text": [
      "Elevation Range Interval: [0.0,1.5220125786163523]\n",
      "Elevation Span: 1.5220125786163523\n"
     ]
    },
    {
     "data": {
      "image/png": "[encoded data removed]",
      "text/plain": [
       "<Figure size 640x480 with 1 Axes>"
      ]
     },
     "metadata": {},
     "output_type": "display_data"
    }
   ],
   "source": [
    "print_range(df['elevation'], 'Elevation')\n",
    "plot_histogram(df['elevation'], 'Elevation Histogram')"
   ]
  },
  {
   "cell_type": "markdown",
   "metadata": {},
   "source": [
    "##### (vi) Audio Signal Features"
   ]
  },
  {
   "cell_type": "markdown",
   "metadata": {},
   "source": [
    "#### b) Explaination for Target Columns"
   ]
  },
  {
   "cell_type": "code",
   "execution_count": 1863,
   "metadata": {},
   "outputs": [
    {
     "name": "stdout",
     "output_type": "stream",
     "text": [
      "common_name: 264\n",
      "sci_name: 264\n",
      "order: 17\n",
      "family: 50\n",
      "species_group: 45\n"
     ]
    }
   ],
   "source": [
    "print('common_name:', df['common_name'].nunique())\n",
    "print('sci_name:', df['sci_name'].nunique())\n",
    "print('order:', df['order'].nunique())\n",
    "print('family:', df['family'].nunique())\n",
    "print('species_group:', df['species_group'].nunique())"
   ]
  },
  {
   "cell_type": "markdown",
   "metadata": {},
   "source": [
    "#### c) Explination for Remaining Columns"
   ]
  },
  {
   "cell_type": "markdown",
   "metadata": {},
   "source": [
    "# § III. Audio Processing Techniques"
   ]
  },
  {
   "cell_type": "markdown",
   "metadata": {},
   "source": [
    "## A. Audio Metering and Signal Analysis"
   ]
  },
  {
   "cell_type": "markdown",
   "metadata": {},
   "source": [
    "### 1. Understanding Different Scales\n",
    "Before delving into advanced audio analysis techniques, it is essential to establish a baseline understanding of some of the concepts explored or nessicary to understand the audio signal effectively. Most properties of sound are percieved non-linearly and here we explore some scales that help us understand aspects of an audio signal."
   ]
  },
  {
   "cell_type": "markdown",
   "metadata": {},
   "source": [
    "#### a) Decibel (dB)\n",
    "The **[decibel](https://en.wikipedia.org/wiki/Decibel)** (symbol: dB) is a relative unit of measurement equal to $\\frac{1}{10}$ of a **bel** (B). The **bel** (B) is $\\frac{ln(10)}{2}$ **nepers** (not to be confused with a **nat** or a **nepit** which is equal to $\\frac{1}{ln(2)}$ **shannons** or, equivalently $\\frac{1}{ln(10)}$ **hartleys**). Put together this means: \n",
    "\n",
    "$1 dB = \\frac{ln(10)}{20} Np$\n",
    "\n",
    "A neper is named after a John Napier (which notably, is not \"John Neper\"), One of many mathematicians, statitions, or audio engineers that have things named after them that have funny names, such as Nicholas R. Lomb, and Jeffrey D. Scargle (The minds behind the \"Lomb-Scargle Pediogram\"). Its important to look at decibels in terms of 'nepers' because it keeps the mood up during this incredibly dry content.\n",
    "\n",
    "For our calculations, however, we will be looking at comparing the decibel in referenced to a normalized signal magnitude. The decibel is the most common scale to use in audio signal metering and it is applied to many different use cases with slightly different meaning. The decibel itself its simply just a scale but it is applied more specificly depending on the context it is used (ie. dBFS, dBSPL, dBV, dBu all specifically refer to different use cases of the decibel scale all measuring different things). In our case we are applying the decibel scale to our instantaneous signal amplitudes, and the magnitudes of our hilbert envelopes or the frequency magnitudes when converting our time domain signal into a frequency domain signal.\n",
    "\n",
    "To produce results in reference to the full scale of possible signal magnitude, the signal must be normalized to be in the range [-1,1]. When converting our signal to an array of sample from an audio file it produces values in a range where the maximum and minimum amplitudes corrispond to the largest numbers that could be stored with the datatype used to store each sample, this is refered to as the bit depth of the signal. Traditionally the signal would be normalized such that the minimum and maximum values that could be stored by the datatype are mapped to [-1,1] and the signal is scaled accordingly, but in this case a conscious decision was made to normalize signal values such that the maximum absolute amplitude observed in the signal is what is used to normalize the signal strength. That means that every audio file will have at least one sample at either -1 or 1. This is a simple way to ensure that all of the audio files are percieved by the machine learning model at roughly the same volume."
   ]
  },
  {
   "cell_type": "code",
   "execution_count": 1864,
   "metadata": {},
   "outputs": [],
   "source": [
    "def normalize_signal(signal: ndarray, max_amplitude: Optional[number]=None) -> ndarray:\n",
    "    \"\"\"Normalizes the amplitude of an audio signal to the range [-1,1].\n",
    "    Can perform normalization on either the CPU or GPU, depending on the input signal type.\n",
    "    \n",
    "    Args:\n",
    "        signal (cp.ndarray | np.ndarray): The audio signal to normalize.\n",
    "        max_amplitude (int | float, optional): The maximum amplitude value in the signal. Defaults to None.\n",
    "    \n",
    "    Returns:\n",
    "        cp.ndarray|np.ndarray: The normalized audio signal. Matches the input signal type.\n",
    "    \"\"\"\n",
    "    math = np # Use numpy for CPU operations by default\n",
    "    if isinstance(signal, cp.ndarray):\n",
    "        math = cp # Use cupy for GPU operations if the signal is a cupy array\n",
    "    if max_amplitude is None: # If the maximum amplitude is not provided find the maximum amplitude in the signal\n",
    "        max_amplitude = math.max(math.abs(signal))\n",
    "    return signal / max_amplitude # Normalize the signal to the range [-1,1]"
   ]
  },
  {
   "cell_type": "markdown",
   "metadata": {},
   "source": [
    "To perform the conversion from signal amplitude into decibels, the following formula was used:\n",
    "\n",
    "$\\Large\n",
    "dB = 20 \\cdot \\log_{10}(|x[t]+\\epsilon|)$\n",
    "\n",
    "Where $x[t]$ refers to the instantaneous amplitude of the signal at any given time domain. This formula looks and functions the same if the input signal in the time domain is replace with a signal in the frequency domain denoted with the syntax $X[k]$\n",
    "\n",
    "This deviates from the traditional formula slightly by adding the the constant $\\epsilon$ (the number as close to 0 as possible without being 0) to the signal before performing the calculation. This is a simple means of preventing `log(0)` from causing errors. The value for $\\epsilon$ is stored in `sys.float_info.epsilon` and by default references that value to perform the calculation."
   ]
  },
  {
   "cell_type": "code",
   "execution_count": 1865,
   "metadata": {},
   "outputs": [],
   "source": [
    "def magnitude_to_db(signal: ndarray|number, epsilon: float=sys.float_info.epsilon) -> ndarray|number:\n",
    "    \"\"\"Calculate the magnitude of an audio signal in decibels.\n",
    "    Can perform the calculation on either the CPU or GPU, depending on the input signal type.\n",
    "    \n",
    "    Args:\n",
    "        signal (cp.ndarray | np.ndarray | float | int): The audio signal to calculate the magnitude of. Will take either an array or a single value.\n",
    "        epsilon (float, optional): A small value to prevent `log(0)`. Defaults to `sys.float_info.epsilon`.\n",
    "        \n",
    "    Returns:\n",
    "        cp.ndarray|np.ndarray|float|int: The magnitude of the audio signal in decibels. Return type matches the input signal type.\n",
    "    \"\"\"\n",
    "    math = np # Use numpy for CPU operations by default\n",
    "    if isinstance(signal, cp.ndarray):\n",
    "        math = cp # Use cupy for GPU operations if the signal is a cupy array\n",
    "    return 20 * math.log10(math.abs(signal + epsilon)) # Calculate the magnitude in decibels"
   ]
  },
  {
   "cell_type": "markdown",
   "metadata": {},
   "source": [
    "#### b) Frequency Scaling\n",
    "The signal will be analized from 20 Hz to 20 kHz in this notebook, but how those frequencies are understood by humans (and presumably by birds) is also non-linear. For example: one octaive in music corrisponds to a doubling in frequency. There are many methods used to scale these values to match how they are percieved by people."
   ]
  },
  {
   "cell_type": "markdown",
   "metadata": {},
   "source": [
    "##### (i) Log Scale\n",
    "Logorithmic scaling is the simplest way to analize the frequency domain of the signal, and does corrispond with octiave scaling. This scale is common enough and simple enough that it can be rendered directly inside of `matplotlib`."
   ]
  },
  {
   "cell_type": "markdown",
   "metadata": {},
   "source": [
    "##### (ii) Mel Scale\n",
    "The [Mel Scale](https://en.wikipedia.org/wiki/Mel_scale) (named after the word *melody*) is one of many scales attempting to map more accurately the frequency domain to useful changes in human perception. The mel scale was mapped to measurements of [just-noticeable differences](https://en.wikipedia.org/wiki/Just-noticeable_difference) of pitch by the human ear. This distribution of frequency data is used by many different audio recognition models.\n",
    "\n",
    "There are many variations of the formula to calulate the Mel Frequency, in this notebook the following formula (from [Douglas O'Shaughnessy, 1987](https://books.google.com/books?id=mHFQAAAAMAAJ&q=2595)) is used to convert $f$ hertz into $m$ mels:\n",
    "\n",
    "$\\Large\n",
    "Mel(f) = 2595 \\log_{10}(1 + \\frac{f}{700})\n",
    "$"
   ]
  },
  {
   "cell_type": "code",
   "execution_count": 1866,
   "metadata": {},
   "outputs": [],
   "source": [
    "def hz_to_mel(hz: ndarray|number) -> ndarray|number:\n",
    "    \"\"\"Convert a frequency value in Hertz to the Mel scale.\n",
    "    Can perform the conversion on either the CPU or GPU, depending on the input signal type.\n",
    "\n",
    "    Args:\n",
    "        hz (cp.ndarray | np.ndarray | float | int): The frequency value in Hertz to convert. Will take either an array or a single value.\n",
    "    \n",
    "    Returns:\n",
    "        cp.ndarray|np.ndarray|float|int: The frequency value converted to the Mel scale. Return type matches the input signal type.\n",
    "    \n",
    "    Formula:\n",
    "    --------\n",
    "        mel = 2595 * log10(1 + hz / 700)\n",
    "    \"\"\"\n",
    "    if isinstance(hz, cp.ndarray):\n",
    "        return 2595 * cp.log10(1 + hz / 700)\n",
    "    return 2595 * np.log10(1 + hz / 700)\n",
    "\n",
    "\n",
    "def mel_to_hz(mel: ndarray|number) -> ndarray|number:\n",
    "    \"\"\"Convert a frequency value in the Mel scale to Hertz.\n",
    "    Can perform the conversion on either the CPU or GPU, depending on the input signal type.\n",
    "\n",
    "    Args:\n",
    "        mel (cp.ndarray | np.ndarray | float | int): The frequency value in the Mel scale to convert. Will take either an array or a single value.\n",
    "    \n",
    "    Returns:\n",
    "        cp.ndarray|np.ndarray|float|int: The frequency value converted to Hertz. Return type matches the input signal type.\n",
    "    \n",
    "    Formula:\n",
    "    --------\n",
    "        hz = 700 * (10 ** (mel / 2595) - 1)\n",
    "    \"\"\"\n",
    "    return 700 * (10 ** (mel / 2595) - 1)"
   ]
  },
  {
   "cell_type": "markdown",
   "metadata": {},
   "source": [
    "##### (iii) Bark Scale\n",
    "The [Bark Scale](https://en.wikipedia.org/wiki/Bark_scale) is another psychoacoustical scale with the goal of providing \"a frequency scale on which equal distances correspond with perceptually equal distnaces.\" It is related to, but less popular than the mel scale, however it is the only scale that has the property of emphasizing the relevance of a \"middle range\" of frequencies and applying less value to higher frequencies as well as lower frequencies. The original formula to convert to the bark scale is:\n",
    "\n",
    "$\\Large\n",
    "Bark(f) = 13 tan^{-1}(\\frac{0.76f}{1000}) + 3.5 tan^{-1}((\\frac{f}{7500})^2)\n",
    "$\n",
    "\n",
    "This formula has a more pronounced emphases on middle frequencies with less emphasis on very high frequency values, however it is considerably more difficult to inverse. The inverse function rarely needs to be run and it does not need to run on large amounts of data, so this limitaion was allowed remain. The solution to finding the inverse function is using the `scipy.optimize.root_scalar` to brute force the answers."
   ]
  },
  {
   "cell_type": "code",
   "execution_count": 1867,
   "metadata": {},
   "outputs": [],
   "source": [
    "def hz_to_bark(hz: ndarray|number) -> ndarray|number:\n",
    "    \"\"\"Convert a frequency value in Hertz to the Bark scale.\n",
    "    Can perform the conversion on either the CPU or GPU, depending on the input signal type.\n",
    "\n",
    "    Args:\n",
    "        hz (cp.ndarray | np.ndarray | float | int): The frequency value in Hertz to convert. Will take either an array or a single value.\n",
    "    \n",
    "    Returns:\n",
    "        cp.ndarray|np.ndarray|float|int: The frequency value converted to the Bark scale. Return type matches the input signal type.\n",
    "    \n",
    "    Formula:\n",
    "    --------\n",
    "        bark = 13 * arctan(0.00076 * hz) + 3.5 * arctan((hz / 7500) ** 2)\n",
    "    \"\"\"\n",
    "    if isinstance(hz, cp.ndarray):\n",
    "        return 13 * cp.arctan(0.00076 * hz) + 3.5 * cp.arctan((hz / 7500) ** 2)\n",
    "    return 13 * np.arctan(0.00076 * hz) + 3.5 * np.arctan((hz / 7500) ** 2)\n",
    "\n",
    "\n",
    "def bark_to_hz(bark: ndarray|number) -> ndarray|number:\n",
    "    \"\"\"Convert a frequency value in the Bark scale to Hertz.\n",
    "    Slow and inefficient.\n",
    "\n",
    "    Args:\n",
    "        bark (cp.ndarray | np.ndarray | float | int): The frequency value in the Bark scale to convert. Will take either an array or a single value.\n",
    "\n",
    "    Returns:\n",
    "        cp.ndarray|np.ndarray|float|int: The frequency value converted to Hertz. Return type matches the input signal type.\n",
    "    \"\"\"\n",
    "    def single_bark_to_hz(single_bark):\n",
    "        return sp.optimize.root_scalar(lambda x: hz_to_bark(x) - single_bark, bracket=[0, 24000], method='brentq').root\n",
    "    \n",
    "    if isinstance(bark, cp.ndarray):\n",
    "        bark = bark.get()\n",
    "    \n",
    "    vectorized_bark_to_hz = np.vectorize(single_bark_to_hz)\n",
    "    return vectorized_bark_to_hz(bark)"
   ]
  },
  {
   "cell_type": "markdown",
   "metadata": {},
   "source": [
    "##### (iv) Equivalent Rectangular Bandwidth Scale (ERBS)\n",
    "The Equivelant Rectangular Bandwidth Scale is the last scale on this list which measures the number of percieved audio filters below any given frequency. It is another scale which is adjusted to the perception of sound, rather than the phsycical properties of sound. The following formula was used to calulate the ERBS:\n",
    "\n",
    "$\\Large\n",
    "ERBS(f) = 21.4 log_{10}(1 + \\frac{0.437f}{100})\n",
    "$"
   ]
  },
  {
   "cell_type": "code",
   "execution_count": 1868,
   "metadata": {},
   "outputs": [],
   "source": [
    "def hz_to_erbs(hz: ndarray|number) -> ndarray|number:\n",
    "    \"\"\"Convert a frequency value in Hertz to the ERB scale.\n",
    "    Can perform the conversion on either the CPU or GPU, depending on the input signal type.\n",
    "\n",
    "    Args:\n",
    "        hz (cp.ndarray | np.ndarray | float | int): The frequency value in Hertz to convert. Will take either an array or a single value.\n",
    "\n",
    "    Returns:\n",
    "        cp.ndarray|np.ndarray|float|int: The frequency value converted to the ERB scale. Return type matches the input signal type.\n",
    "\n",
    "    Formula:\n",
    "    --------\n",
    "        erb = 21.4 * log10(1 + hz * 0.00437)\n",
    "    \"\"\"\n",
    "    if isinstance(hz, cp.ndarray):\n",
    "        return 21.4 * cp.log10(1 + hz * 0.00437)\n",
    "    return 21.4 * np.log10(1 + hz * 0.00437)\n",
    "\n",
    "\n",
    "def erbs_to_hz(erbs: ndarray|number) -> ndarray|number:\n",
    "    \"\"\"Convert a frequency value in the ERB scale to Hertz.\n",
    "    Can perform the conversion on either the CPU or GPU, depending on the input signal type.\n",
    "\n",
    "    Args:\n",
    "        erbs (cp.ndarray | np.ndarray | float | int): The frequency value in the ERB scale to convert. Will take either an array or a single value.\n",
    "\n",
    "    Returns:\n",
    "        cp.ndarray|np.ndarray|float|int: The frequency value converted to Hertz. Return type matches the input signal type.\n",
    "\n",
    "    Formula:\n",
    "    --------\n",
    "        hz = (10 ** (erb / 21.4) - 1) / 0.00437\n",
    "    \"\"\"\n",
    "    return (10 ** (erbs / 21.4) - 1) / 0.00437"
   ]
  },
  {
   "cell_type": "markdown",
   "metadata": {},
   "source": [
    "##### (v) Visualizing Different Scales\n",
    "To compare each of these scales, they will all be compared to the logorithmic scale."
   ]
  },
  {
   "cell_type": "code",
   "execution_count": 1884,
   "metadata": {},
   "outputs": [],
   "source": [
    "def plot_scale_comparisons(scale_functions: List[Callable[[ndarray|number], ndarray|number]],\n",
    "                           inverse_scale_functions: List[Callable[[ndarray|number], ndarray|number]],\n",
    "                           bins: int=50) -> None:\n",
    "    \"\"\"Plot the comparison of multiple frequency scale conversion functions to a logarithmic scale.\n",
    "    Groups each frequency value into a bin and plots the frequency value against the bin number for each function.\n",
    "    \n",
    "    Args:\n",
    "        scale_functions (List[Callable[[ndarray|number], ndarray|number]]): The frequency scale conversion functions to compare.\n",
    "        bins (int, optional): The number of bins to group the frequency values into. Defaults to 100.\n",
    "    \"\"\"\n",
    "    _, ax = plt.subplots(1, len(scale_functions), figsize=(20, 5)) # Set the figure size\n",
    "\n",
    "    for i, scale_function in enumerate(scale_functions): # Iterate through each scale function\n",
    "        inverse_scale_function = inverse_scale_functions[i] # Get the inverse scale function\n",
    "\n",
    "        bin_edges = np.linspace(scale_function(20), scale_function(20000), bins) # Generate the bin values\n",
    "        bin_edges_hz = inverse_scale_function(bin_edges) # Convert the bin values back to Hz. This keep the spacing consistent to the scale function values\n",
    "\n",
    "        for j in range(1, len(bin_edges)): # This is essentially the plot, make a box for each bin\n",
    "            ax[i].fill_betweenx([bin_edges_hz[j-1], bin_edges_hz[j]], j, j+1, color='tab:blue', alpha=1)\n",
    "\n",
    "        ax[i].set_title(f'{scale_function.__name__} Scale Comparison')\n",
    "        ax[i].set_ylabel('Frequency (Hz)')\n",
    "        ax[i].set_yscale('log')\n",
    "        yticks = np.array([20, 50, 100, 200, 500, 1000, 2000, 5000, 10000, 20000])\n",
    "        ax[i].set_yticks(yticks, yticks.astype(str))\n",
    "        ax[i].set_xlabel('Bin Number')\n",
    "        xticks = np.linspace(1, bin_edges.size, 10).astype(int)\n",
    "        ax[i].set_xticks(xticks)\n",
    "        ax[i].grid(True)\n",
    "    plt.show()"
   ]
  },
  {
   "cell_type": "markdown",
   "metadata": {},
   "source": [
    "Here we can see how these bins get grouped together at various resolutions. At lower resolutions the plot is easier to understand, and at higher resolutions the curve hidden in each scale becomes more clear."
   ]
  },
  {
   "cell_type": "code",
   "execution_count": 1885,
   "metadata": {},
   "outputs": [
    {
     "data": {
      "image/png": "[encoded data removed]",
      "text/plain": [
       "<Figure size 2000x500 with 3 Axes>"
      ]
     },
     "metadata": {},
     "output_type": "display_data"
    },
    {
     "data": {
      "image/png": "[encoded data removed]",
      "text/plain": [
       "<Figure size 2000x500 with 3 Axes>"
      ]
     },
     "metadata": {},
     "output_type": "display_data"
    },
    {
     "data": {
      "image/png": "[encoded data removed]",
      "text/plain": [
       "<Figure size 2000x500 with 3 Axes>"
      ]
     },
     "metadata": {},
     "output_type": "display_data"
    }
   ],
   "source": [
    "plot_scale_comparisons([hz_to_mel, hz_to_bark, hz_to_erbs], [mel_to_hz, bark_to_hz, erbs_to_hz], bins=20)\n",
    "plot_scale_comparisons([hz_to_mel, hz_to_bark, hz_to_erbs], [mel_to_hz, bark_to_hz, erbs_to_hz], bins=50)\n",
    "plot_scale_comparisons([hz_to_mel, hz_to_bark, hz_to_erbs], [mel_to_hz, bark_to_hz, erbs_to_hz], bins=100)"
   ]
  },
  {
   "cell_type": "markdown",
   "metadata": {},
   "source": [
    "Here we can see on this chart how the frequencies would get grouped together in different scales. A longer vertical line in each bin means that using that scale, more frequencies would be grouped in that bin. The key things to pay attention to are the scales at the edge of this range, where there is the least amount of useful sonic information coming from birdcalls. The majority of bird information is expected to come from the 100 Hz - 10 kHz range, and especially in the 500 Hz - 5 kHz range. It is for this reason that the Bark scale is used to group and display frequencies in this project."
   ]
  },
  {
   "cell_type": "code",
   "execution_count": 1871,
   "metadata": {},
   "outputs": [
    {
     "name": "stdout",
     "output_type": "stream",
     "text": [
      "Time taken to convert frequencies to Mel scale: 0.0007 seconds\n",
      "Time taken to convert Mel scale values to frequencies: 0.0004 seconds\n",
      "Time taken to convert frequencies to ERB scale: 0.0004 seconds\n",
      "Time taken to convert ERB scale values to frequencies: 0.0005 seconds\n",
      "Time taken to convert frequencies to Bark scale: 0.0006 seconds\n",
      "Time taken to convert Bark scale values to frequencies: 0.8283 seconds\n"
     ]
    }
   ],
   "source": [
    "frequncies = np.linspace(20, 20000, 19980) # Generate a range of frequencies from 20 Hz to 20 kHz\n",
    "\n",
    "start = time.time() # Mark the start time\n",
    "mel = hz_to_mel(frequncies) # Convert the frequencies to the Mel scale\n",
    "print(f'Time taken to convert frequencies to Mel scale: {time.time() - start:.4f} seconds')\n",
    "\n",
    "start = time.time() # Mark the start time\n",
    "hz = mel_to_hz(mel) # Convert the Mel scale values back to frequencies\n",
    "print(f'Time taken to convert Mel scale values to frequencies: {time.time() - start:.4f} seconds')\n",
    "\n",
    "start = time.time() # Mark the start time\n",
    "erbs = hz_to_erbs(frequncies) # Convert the frequencies to the ERB scale\n",
    "print(f'Time taken to convert frequencies to ERB scale: {time.time() - start:.4f} seconds')\n",
    "\n",
    "start = time.time() # Mark the start time\n",
    "hz = erbs_to_hz(erbs) # Convert the ERB scale values back to frequencies\n",
    "print(f'Time taken to convert ERB scale values to frequencies: {time.time() - start:.4f} seconds')\n",
    "\n",
    "start = time.time() # Mark the start time\n",
    "bark = hz_to_bark(frequncies) # Convert the frequencies to the Bark scale\n",
    "print(f'Time taken to convert frequencies to Bark scale: {time.time() - start:.4f} seconds')\n",
    "\n",
    "start = time.time() # Mark the start time\n",
    "hz = bark_to_hz(bark) # Convert the Bark scale values back to frequencies\n",
    "print(f'Time taken to convert Bark scale values to frequencies: {time.time() - start:.4f} seconds')"
   ]
  },
  {
   "cell_type": "markdown",
   "metadata": {},
   "source": [
    "This does demonstrate however the large drop in performance when performing the inverse bark conversion. Rather than spending too much effort trying to improve that algorithm, this informaiton was kept in mind through the remainder of the project and the number of calls to the `bark_to_hz` function were minimized."
   ]
  },
  {
   "cell_type": "markdown",
   "metadata": {},
   "source": [
    "### 2. Plotting Waveforms"
   ]
  },
  {
   "cell_type": "markdown",
   "metadata": {},
   "source": [
    "With the scale functions in place, waveforms can now be plotted simply and their amplitudes can be displayed in decibels."
   ]
  },
  {
   "cell_type": "code",
   "execution_count": 1872,
   "metadata": {},
   "outputs": [],
   "source": [
    "def signal_to_time(signal: ndarray, sampling_rate: int) -> ndarray:\n",
    "    \"\"\"Calculate the time values for each sample in an audio signal.\n",
    "    Can perform the calculation on either the CPU or GPU, depending on the input signal type.\n",
    "\n",
    "    Args:\n",
    "        signal (cp.ndarray | np.ndarray): The audio signal to calculate the time values for.\n",
    "        sampling_rate (int): The sampling rate of the audio signal.\n",
    "    \n",
    "    Returns:\n",
    "        cp.ndarray|np.ndarray: The time values for each sample in the audio signal. Return type matches the input signal type.\n",
    "    \"\"\"\n",
    "    math = np # Use numpy for CPU operations by default\n",
    "    if isinstance(signal, cp.ndarray):\n",
    "        math = cp # Use cupy for GPU operations if the signal is a cupy array\n",
    "    return math.arange(signal.size) / sampling_rate # Calculate the time values for each sample\n",
    "\n",
    "\n",
    "def plot_waveform(sound: AudioSegment, title: str='Waveform', normalization_constant: int=None) -> None:\n",
    "    \"\"\"Plot the waveform of an audio signal.\n",
    "    \n",
    "    Args:\n",
    "        sound (AudioSegment): The audio signal to plot.\n",
    "        title (str, optional): The title of the plot. Defaults to 'Waveform'.\n",
    "        normalization_constant (int, optional): The constant to normalize the signal by. Defaults to None.\n",
    "    \"\"\"\n",
    "    if sound.channels > 1: # If the audio signal has multiple channels, convert it to mono\n",
    "        sound = sound.split_to_mono()[0]\n",
    "\n",
    "    signal = np.array(sound.get_array_of_samples()) # Get the audio signal as an array\n",
    "    signal = normalize_signal(signal, normalization_constant) # Normalize the signal to the range [-1,1]\n",
    "    time = signal_to_time(signal, sound.frame_rate) # Calculate the time values for each sample\n",
    "    plt.figure(figsize=(20, 4)) # Long figure to show the waveform clearly\n",
    "    plt.plot(time, signal) # Plot the waveform\n",
    "    plt.title(title)\n",
    "    plt.xlabel('Time')\n",
    "    plt.ylabel('Amplitude (dB)')\n",
    "    plt.axhline(0, color='black', linewidth=0.5) # Add a horizontal black centerline\n",
    "    yticks = np.linspace(-1, 1, 15) # Add y-ticks\n",
    "    yticks_labels = [f'{int(magnitude_to_db(y))}' for y in yticks] # Convert the y-ticks to decibels\n",
    "    yticks_labels[7] = '-∞' # Replace the center y-tick with negative infinity\n",
    "    plt.ylim(-1, 1)\n",
    "    plt.yticks(yticks, yticks_labels)\n",
    "    plt.grid(True, axis='x')\n",
    "    xticks = np.linspace(0, time[-1], 10) # Add x-ticks\n",
    "    depth = 2 if time[-1] > 10 else 1 # Set the depth of the time values\n",
    "    xticks_labels = [time_to_human_readable(x, depth=depth) for x in xticks] # Convert the x-ticks to human readable time\n",
    "    plt.xlim(0, time[-1])\n",
    "    plt.xticks(xticks, xticks_labels)\n",
    "    plt.show()"
   ]
  },
  {
   "cell_type": "code",
   "execution_count": 1873,
   "metadata": {},
   "outputs": [
    {
     "data": {
      "image/png": "[encoded data removed]",
      "text/plain": [
       "<Figure size 2000x400 with 1 Axes>"
      ]
     },
     "metadata": {},
     "output_type": "display_data"
    }
   ],
   "source": [
    "filename = df.sample(1).filename.iloc[0] # Pick a file, any file.      That was me as a magician. I hope you liked it.\n",
    "sound = load_sound_file(filename) # Load the audio file\n",
    "plot_waveform(sound, title=filename) # Show me the magic"
   ]
  },
  {
   "cell_type": "markdown",
   "metadata": {},
   "source": [
    "#### a) RMS Calculations\n",
    "In addition to directly plotting the signal, another common technique for analizing signal is to view the signal in terms of short term RMS, where in a window of time (usually about 300 ms) the rms is calulated and that rms number is plotted to give a better picture of how volume is changnig over time without as much instantaneous variance."
   ]
  },
  {
   "cell_type": "code",
   "execution_count": 1874,
   "metadata": {},
   "outputs": [],
   "source": [
    "def signal_to_rms_signal(signal: ndarray, sample_rate: int, window_size: int=300, centered: bool=False) -> ndarray:\n",
    "    \"\"\"Calculate the Root Mean Square (RMS) of an audio signal. The RMS is calculated over a moving window of the signal.\n",
    "    Can perform the calculation on either the CPU or GPU, depending on the input signal type.\n",
    "\n",
    "    Args:\n",
    "        signal (cp.ndarray | np.ndarray): The audio signal to calculate the RMS of.\n",
    "        sample_rate (int): The sample rate of the audio signal.\n",
    "        window_size (int, optional): The size of the moving window in milliseconds. Defaults to 300.\n",
    "        centered (bool, optional): If True, the RMS is calculated at the center of the window. This is abnormal. Defaults to False.\n",
    "    \n",
    "    Returns:\n",
    "        cp.ndarray|np.ndarray: The RMS of the audio signal. Return type matches the input signal type.\n",
    "    \"\"\"\n",
    "    math = np # Use numpy for CPU operations by default\n",
    "    if isinstance(signal, cp.ndarray):\n",
    "        math = cp # Use cupy for GPU operations if the signal is a cupy array\n",
    "    window_size = int(window_size * sample_rate / 1000) # Convert the window size to samples\n",
    "\n",
    "    pad_width = window_size // 2 if centered else window_size # Calculate the padding width\n",
    "    padded_signal = math.pad(signal, pad_width, mode='constant') # Pad the area around the signal making it longer\n",
    "\n",
    "    cumsum = math.cumsum(padded_signal ** 2) # Calculate the cumulative sum of the squared signal\n",
    "    cumsum = cumsum[window_size:] - cumsum[:-window_size] # Calculate the difference between the cumulative sums to get the sum of the squared signal in the window\n",
    "    rms_signal = math.sqrt(cumsum / window_size) # Calculate the RMS of the signal\n",
    "    \n",
    "    if centered:\n",
    "        return rms_signal # Return the RMS signal calculated at the center of the window\n",
    "    return rms_signal[:-window_size] # Remove the padding from the RMS signal if needed\n",
    "\n",
    "def plot_rms_signal(sound: AudioSegment, title: str='RMS Signal', normalization_constant: int=None) -> None:\n",
    "    \"\"\"Plots the Root Mean Square (RMS) of an audio signal over time.\n",
    "    \n",
    "    Args:\n",
    "        sound (AudioSegment): The audio signal to plot.\n",
    "        title (str, optional): The title of the plot. Defaults to 'RMS Signal'.\n",
    "        normalization_constant (int, optional): The constant to normalize the signal by. Defaults to None.\n",
    "    \"\"\"\n",
    "    if sound.channels > 1: # If the audio signal has multiple channels, convert it to mono\n",
    "        sound = sound.split_to_mono()[0]\n",
    "\n",
    "    signal = np.array(sound.get_array_of_samples()) # Get the audio signal as an array\n",
    "    signal = normalize_signal(signal, normalization_constant) # Normalize the signal to the range [-1,1]\n",
    "    rms_signal = signal_to_rms_signal(signal, sound.frame_rate) # Calculate the RMS of the signal\n",
    "    time = signal_to_time(rms_signal, sound.frame_rate) # Calculate the time values for each RMS value\n",
    "    plt.figure(figsize=(20, 4)) # Long figure to show the RMS signal clearly\n",
    "    plt.plot(time, rms_signal) # Plot the RMS signal\n",
    "    plt.title(title)\n",
    "    plt.xlabel('Time')\n",
    "    plt.ylabel('RMS Amplitude (dB)')\n",
    "    plt.grid(True, axis='x')\n",
    "    xticks = np.linspace(0, time[-1], 10) # Add x-ticks\n",
    "    depth = 2 if time[-1] > 10 else 1\n",
    "    xticks_labels = [time_to_human_readable(x, depth=depth) for x in xticks] # Convert the x-ticks to human readable time\n",
    "    plt.xlim(0, time[-1])\n",
    "    plt.xticks(xticks, xticks_labels)\n",
    "    yticks = np.linspace(0, 1, 7) # Add y-ticks. If the number of ticks is too high it will show 0 twice.\n",
    "    yticks_labels = [f'{int(magnitude_to_db(y))}' for y in yticks]  # Convert the y-ticks to decibels\n",
    "    yticks_labels[0] = '-∞' # Replace the first y-tick with negative infinity\n",
    "    plt.ylim(0, 1)\n",
    "    plt.yticks(yticks, yticks_labels)\n",
    "    plt.show()"
   ]
  },
  {
   "cell_type": "code",
   "execution_count": 1875,
   "metadata": {},
   "outputs": [
    {
     "data": {
      "image/png": "[encoded data removed]",
      "text/plain": [
       "<Figure size 2000x400 with 1 Axes>"
      ]
     },
     "metadata": {},
     "output_type": "display_data"
    },
    {
     "data": {
      "image/png": "[encoded data removed]",
      "text/plain": [
       "<Figure size 2000x400 with 1 Axes>"
      ]
     },
     "metadata": {},
     "output_type": "display_data"
    }
   ],
   "source": [
    "plot_waveform(sound, title=f'Waveform of {filename}')\n",
    "plot_rms_signal(sound, title=f'RMS Signal of {filename}')"
   ]
  },
  {
   "cell_type": "markdown",
   "metadata": {},
   "source": [
    "### 3. Understanding Different Signal Transformations"
   ]
  },
  {
   "cell_type": "markdown",
   "metadata": {},
   "source": [
    "#### a) The Fourier Transformation"
   ]
  },
  {
   "cell_type": "markdown",
   "metadata": {},
   "source": [
    "##### (i) Understanding The Complex Result"
   ]
  },
  {
   "cell_type": "markdown",
   "metadata": {},
   "source": [
    "##### (ii) Advantage of GPU Parallelization when Performing Fourier Transformations"
   ]
  },
  {
   "cell_type": "markdown",
   "metadata": {},
   "source": [
    "##### (iii) Grouping Frequencies Together"
   ]
  },
  {
   "cell_type": "markdown",
   "metadata": {},
   "source": [
    "##### (iv) Example Frequency Spectrums"
   ]
  },
  {
   "cell_type": "markdown",
   "metadata": {},
   "source": [
    "#### b) The Short-Time Fourier Transformation (STFT)"
   ]
  },
  {
   "cell_type": "markdown",
   "metadata": {},
   "source": [
    "##### (i) Advantage of GPU Parallelization when Performing Short-Time Fourier Transformations"
   ]
  },
  {
   "cell_type": "markdown",
   "metadata": {},
   "source": [
    "##### (ii) The Inverse Short-Time Fourier Transformation"
   ]
  },
  {
   "cell_type": "markdown",
   "metadata": {},
   "source": [
    "##### (iii) The Constant OverLap Add (COLA) Constraint"
   ]
  },
  {
   "cell_type": "markdown",
   "metadata": {},
   "source": [
    "##### (iv) The Nonzero OverLap Add (NOLA) Constraint"
   ]
  },
  {
   "cell_type": "markdown",
   "metadata": {},
   "source": [
    "##### (v) Grouping Frequencies Together"
   ]
  },
  {
   "cell_type": "markdown",
   "metadata": {},
   "source": [
    "##### (vi) Example Spectrograms"
   ]
  },
  {
   "cell_type": "markdown",
   "metadata": {},
   "source": [
    "#### c) The Hilbert Transformation"
   ]
  },
  {
   "cell_type": "markdown",
   "metadata": {},
   "source": [
    "##### (i) Understanding the Analytic Signal"
   ]
  },
  {
   "cell_type": "markdown",
   "metadata": {},
   "source": [
    "##### (ii) Advantage of GPU Parallelization when Performing Hilbert Transformations"
   ]
  },
  {
   "cell_type": "markdown",
   "metadata": {},
   "source": [
    "##### (iii) Extracting the Real Signal"
   ]
  },
  {
   "cell_type": "markdown",
   "metadata": {},
   "source": [
    "##### (iv) Extracting the Hilbert Envelope"
   ]
  },
  {
   "cell_type": "markdown",
   "metadata": {},
   "source": [
    "##### (v) Extracting the Instantaneous Phase Angle"
   ]
  },
  {
   "cell_type": "markdown",
   "metadata": {},
   "source": [
    "##### (vi) Example Plots of Hilbert Envelopes"
   ]
  },
  {
   "cell_type": "markdown",
   "metadata": {},
   "source": [
    "##### (vii) Example Plots of Signal Phase Angles"
   ]
  },
  {
   "cell_type": "markdown",
   "metadata": {},
   "source": [
    "## B. Generation of Simple Frequency Representation Dataset"
   ]
  },
  {
   "cell_type": "markdown",
   "metadata": {},
   "source": [
    "### 1. Performing the Bulk Calculation"
   ]
  },
  {
   "cell_type": "markdown",
   "metadata": {},
   "source": [
    "### 2. Visualizations of Resulting Data"
   ]
  },
  {
   "cell_type": "markdown",
   "metadata": {},
   "source": [
    "#### a) Individual Frequency Spectrums"
   ]
  },
  {
   "cell_type": "markdown",
   "metadata": {},
   "source": [
    "#### b) Heatmaps of Frequency Spectrums"
   ]
  },
  {
   "cell_type": "markdown",
   "metadata": {},
   "source": [
    "## C. Audio Signal Processing Techniques"
   ]
  },
  {
   "cell_type": "markdown",
   "metadata": {},
   "source": [
    "### 1. Reduction of the Noise Floor"
   ]
  },
  {
   "cell_type": "markdown",
   "metadata": {},
   "source": [
    "#### a) Issues Caused by Noise Floor"
   ]
  },
  {
   "cell_type": "markdown",
   "metadata": {},
   "source": [
    "#### b) Method of Noise Reduction"
   ]
  },
  {
   "cell_type": "markdown",
   "metadata": {},
   "source": [
    "#### c) Noise Reduction Examples"
   ]
  },
  {
   "cell_type": "markdown",
   "metadata": {},
   "source": [
    "### 2. Reduction of Momentary Clicks"
   ]
  },
  {
   "cell_type": "markdown",
   "metadata": {},
   "source": [
    "#### a) Issued Caused by Clicks"
   ]
  },
  {
   "cell_type": "markdown",
   "metadata": {},
   "source": [
    "#### b) Means of Detecting Clicks"
   ]
  },
  {
   "cell_type": "markdown",
   "metadata": {},
   "source": [
    "##### (i) Peak Detection"
   ]
  },
  {
   "cell_type": "markdown",
   "metadata": {},
   "source": [
    "##### (ii) Calcuating the Click-Sensitive Signal"
   ]
  },
  {
   "cell_type": "markdown",
   "metadata": {},
   "source": [
    "#### c) Reducing Magnitude around Clicks"
   ]
  },
  {
   "cell_type": "markdown",
   "metadata": {},
   "source": [
    "### 3. Retuction Of Transient Response"
   ]
  },
  {
   "cell_type": "markdown",
   "metadata": {},
   "source": [
    "#### a) Introduction to Signal Transients"
   ]
  },
  {
   "cell_type": "markdown",
   "metadata": {},
   "source": [
    "#### b) Issues Caused by Transients"
   ]
  },
  {
   "cell_type": "markdown",
   "metadata": {},
   "source": [
    "#### c) Calculating the Transient-Sensitive Signal"
   ]
  },
  {
   "cell_type": "markdown",
   "metadata": {},
   "source": [
    "#### d) Reducing Magnitude around Transients"
   ]
  },
  {
   "cell_type": "markdown",
   "metadata": {},
   "source": [
    "### 4. Segmentation of Audio into Normalized Windows"
   ]
  },
  {
   "cell_type": "markdown",
   "metadata": {},
   "source": [
    "## D. Generation of Filtered Frequency Representation Dataset"
   ]
  },
  {
   "cell_type": "markdown",
   "metadata": {},
   "source": [
    "## E. Generation of Filtered Time-Frequency Representation Dataset"
   ]
  },
  {
   "cell_type": "markdown",
   "metadata": {},
   "source": [
    "# § IV. Model Training and Evaluation"
   ]
  },
  {
   "cell_type": "markdown",
   "metadata": {},
   "source": [
    "## A. Simple Frequency Representation Dataset"
   ]
  },
  {
   "cell_type": "markdown",
   "metadata": {},
   "source": [
    "## B. Filtered Frequency Representation Dataset"
   ]
  },
  {
   "cell_type": "markdown",
   "metadata": {},
   "source": [
    "# § V. Advanced Model Training and Species Detection"
   ]
  },
  {
   "cell_type": "markdown",
   "metadata": {},
   "source": [
    "## A. Training a Convolutional Neural Network (CNN) Against the Filtered Time-Frequency Representation Dataset"
   ]
  },
  {
   "cell_type": "markdown",
   "metadata": {},
   "source": [
    "## B. Model Training with Species as a Target"
   ]
  },
  {
   "cell_type": "markdown",
   "metadata": {},
   "source": [
    "## C. Training a Convolutional Neural Network (CNN) with Species as a Target"
   ]
  },
  {
   "cell_type": "markdown",
   "metadata": {},
   "source": [
    "# § VI. Practical Application and Use of Given Test Data"
   ]
  },
  {
   "cell_type": "markdown",
   "metadata": {},
   "source": [
    "## A. Recreating the Audio Processing Pipeline"
   ]
  },
  {
   "cell_type": "markdown",
   "metadata": {},
   "source": [
    "## B. Making the Processing Function"
   ]
  },
  {
   "cell_type": "markdown",
   "metadata": {},
   "source": [
    "## C. Testing Against the Given Test Data"
   ]
  }
 ],
 "metadata": {
  "kernelspec": {
   "display_name": "Python 3",
   "language": "python",
   "name": "python3"
  },
  "language_info": {
   "codemirror_mode": {
    "name": "ipython",
    "version": 3
   },
   "file_extension": ".py",
   "mimetype": "text/x-python",
   "name": "python",
   "nbconvert_exporter": "python",
   "pygments_lexer": "ipython3",
   "version": "3.12.7"
  }
 },
 "nbformat": 4,
 "nbformat_minor": 2
}
